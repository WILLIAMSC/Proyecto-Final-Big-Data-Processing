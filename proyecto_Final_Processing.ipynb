{
  "cells": [
    {
      "cell_type": "markdown",
      "metadata": {
        "id": "LE2iUCshUHMD"
      },
      "source": [
        "## PROYECTO FINAL DE BIG DATA PROCESSING"
      ]
    },
    {
      "cell_type": "markdown",
      "metadata": {
        "id": "9BdMHKLsUSaC"
      },
      "source": [
        "Instalación de Spark"
      ]
    },
    {
      "cell_type": "code",
      "execution_count": null,
      "metadata": {
        "id": "9NNUgOooVL-N"
      },
      "outputs": [],
      "source": [
        "!apt-get install openjdk-8-jdk-headless -qq > /dev/null"
      ]
    },
    {
      "cell_type": "code",
      "execution_count": null,
      "metadata": {
        "id": "-weT9tIPVRRR"
      },
      "outputs": [],
      "source": [
        "!wget -q http://apache.osuosl.org/spark/spark-3.3.3/spark-3.3.3-bin-hadoop3.tgz"
      ]
    },
    {
      "cell_type": "code",
      "execution_count": null,
      "metadata": {
        "id": "wLPnUw3aVYDX"
      },
      "outputs": [],
      "source": [
        "!tar xf spark-3.3.3-bin-hadoop3.tgz"
      ]
    },
    {
      "cell_type": "code",
      "execution_count": null,
      "metadata": {
        "id": "QMlVY4pAVkwq"
      },
      "outputs": [],
      "source": [
        "import os\n",
        "\n",
        "os.environ[\"JAVA_HOME\"] = \"/usr/lib/jvm/java-8-openjdk-amd64\"\n",
        "os.environ[\"SPARK_HOME\"] = \"/content/spark-3.3.3-bin-hadoop3\""
      ]
    },
    {
      "cell_type": "code",
      "execution_count": null,
      "metadata": {
        "id": "rVUJWAIBVrK4"
      },
      "outputs": [],
      "source": [
        "!pip install -q findspark"
      ]
    },
    {
      "cell_type": "code",
      "execution_count": null,
      "metadata": {
        "id": "N6hiFHlEVwf7",
        "colab": {
          "base_uri": "https://localhost:8080/"
        },
        "outputId": "ed934365-8790-4183-d7ad-3d03ba47888c"
      },
      "outputs": [
        {
          "output_type": "stream",
          "name": "stdout",
          "text": [
            "\u001b[2K     \u001b[90m━━━━━━━━━━━━━━━━━━━━━━━━━━━━━━━━━━━━━━━━\u001b[0m \u001b[32m316.9/316.9 MB\u001b[0m \u001b[31m3.1 MB/s\u001b[0m eta \u001b[36m0:00:00\u001b[0m\n",
            "\u001b[?25h  Preparing metadata (setup.py) ... \u001b[?25l\u001b[?25hdone\n",
            "  Building wheel for pyspark (setup.py) ... \u001b[?25l\u001b[?25hdone\n"
          ]
        }
      ],
      "source": [
        "!pip install -q pyspark"
      ]
    },
    {
      "cell_type": "code",
      "execution_count": null,
      "metadata": {
        "id": "ixy2Sr4eUF3x"
      },
      "outputs": [],
      "source": [
        "import findspark\n",
        "findspark.init()\n",
        "\n",
        "from pyspark.sql import SparkSession\n",
        "\n",
        "spark = SparkSession.builder.appName('Proyecto Final Processing').getOrCreate()"
      ]
    },
    {
      "cell_type": "markdown",
      "metadata": {
        "id": "48vJofnBWlK1"
      },
      "source": [
        "Comprobación de instalación"
      ]
    },
    {
      "cell_type": "code",
      "execution_count": null,
      "metadata": {
        "id": "aponLxr9Usq3",
        "colab": {
          "base_uri": "https://localhost:8080/",
          "height": 219
        },
        "outputId": "8f810450-30c8-437c-9166-44f6ffd1b530"
      },
      "outputs": [
        {
          "output_type": "execute_result",
          "data": {
            "text/plain": [
              "<pyspark.sql.session.SparkSession at 0x7c625812f460>"
            ],
            "text/html": [
              "\n",
              "            <div>\n",
              "                <p><b>SparkSession - in-memory</b></p>\n",
              "                \n",
              "        <div>\n",
              "            <p><b>SparkContext</b></p>\n",
              "\n",
              "            <p><a href=\"http://701259bc0afc:4040\">Spark UI</a></p>\n",
              "\n",
              "            <dl>\n",
              "              <dt>Version</dt>\n",
              "                <dd><code>v3.3.3</code></dd>\n",
              "              <dt>Master</dt>\n",
              "                <dd><code>local[*]</code></dd>\n",
              "              <dt>AppName</dt>\n",
              "                <dd><code>Proyecto Final Processing</code></dd>\n",
              "            </dl>\n",
              "        </div>\n",
              "        \n",
              "            </div>\n",
              "        "
            ]
          },
          "metadata": {},
          "execution_count": 8
        }
      ],
      "source": [
        "spark"
      ]
    },
    {
      "cell_type": "markdown",
      "metadata": {
        "id": "NHUiFwrX8OfJ"
      },
      "source": [
        "## Creando el dataframe a partir del data"
      ]
    },
    {
      "cell_type": "code",
      "execution_count": null,
      "metadata": {
        "id": "36DpaiQ9Wosf"
      },
      "outputs": [],
      "source": [
        "df21 = spark.read.option('header','true').csv('./world-happiness-report-2021.csv')\n"
      ]
    },
    {
      "cell_type": "code",
      "execution_count": null,
      "metadata": {
        "id": "EMoi0Fvl7pki"
      },
      "outputs": [],
      "source": [
        "df21.show()"
      ]
    },
    {
      "cell_type": "code",
      "execution_count": null,
      "metadata": {
        "id": "7h8IkhYIMxe8"
      },
      "outputs": [],
      "source": [
        "df21.printSchema()"
      ]
    },
    {
      "cell_type": "code",
      "execution_count": null,
      "metadata": {
        "id": "NJePDagv8l-J",
        "colab": {
          "base_uri": "https://localhost:8080/"
        },
        "outputId": "7011d22b-d452-4530-d596-1d9550c2027d"
      },
      "outputs": [
        {
          "output_type": "stream",
          "name": "stdout",
          "text": [
            "+--------------+------------+------------------------------+\n",
            "|  Country_name|Ladder_score|Standard error of ladder score|\n",
            "+--------------+------------+------------------------------+\n",
            "|       Finland|       7.842|                         0.032|\n",
            "|       Denmark|       7.620|                         0.035|\n",
            "|   Switzerland|       7.571|                         0.036|\n",
            "|       Iceland|       7.554|                         0.059|\n",
            "|   Netherlands|       7.464|                         0.027|\n",
            "|        Norway|       7.392|                         0.035|\n",
            "|        Sweden|       7.363|                         0.036|\n",
            "|    Luxembourg|       7.324|                         0.037|\n",
            "|   New Zealand|       7.277|                         0.040|\n",
            "|       Austria|       7.268|                         0.036|\n",
            "|     Australia|       7.183|                         0.041|\n",
            "|        Israel|       7.157|                         0.034|\n",
            "|       Germany|       7.155|                         0.040|\n",
            "|        Canada|       7.103|                         0.042|\n",
            "|       Ireland|       7.085|                         0.040|\n",
            "|    Costa Rica|       7.069|                         0.056|\n",
            "|United Kingdom|       7.064|                         0.038|\n",
            "|Czech Republic|       6.965|                         0.049|\n",
            "| United States|       6.951|                         0.049|\n",
            "|       Belgium|       6.834|                         0.034|\n",
            "+--------------+------------+------------------------------+\n",
            "only showing top 20 rows\n",
            "\n"
          ]
        }
      ],
      "source": [
        "df21 = df21.withColumnRenamed('Country name','Country_name').withColumnRenamed('Ladder score','Ladder_score').withColumnRenamed('Regional indicator','Regional_indicator')\n",
        "df21.select('Country_name','Ladder_score','Standard error of ladder score').show()"
      ]
    },
    {
      "cell_type": "code",
      "execution_count": null,
      "metadata": {
        "id": "ZlcCYRdf-bQn"
      },
      "outputs": [],
      "source": [
        "from pyspark.sql.functions import min, max, col\n"
      ]
    },
    {
      "cell_type": "markdown",
      "metadata": {
        "id": "nTYPJnw5WpU8"
      },
      "source": [
        "Transformando el índice de felicidad de string a flotante"
      ]
    },
    {
      "cell_type": "code",
      "execution_count": null,
      "metadata": {
        "id": "-pVnluOCAeXF",
        "colab": {
          "base_uri": "https://localhost:8080/"
        },
        "outputId": "99809c38-6e03-4758-e45b-86f2fe2fbdac"
      },
      "outputs": [
        {
          "output_type": "stream",
          "name": "stdout",
          "text": [
            "root\n",
            " |-- Country_name: string (nullable = true)\n",
            " |-- Regional_indicator: string (nullable = true)\n",
            " |-- Ladder_score: float (nullable = true)\n",
            " |-- Standard error of ladder score: string (nullable = true)\n",
            " |-- upperwhisker: string (nullable = true)\n",
            " |-- lowerwhisker: string (nullable = true)\n",
            " |-- Logged GDP per capita: string (nullable = true)\n",
            " |-- Social support: string (nullable = true)\n",
            " |-- Healthy life expectancy: string (nullable = true)\n",
            " |-- Freedom to make life choices: string (nullable = true)\n",
            " |-- Generosity: string (nullable = true)\n",
            " |-- Perceptions of corruption: string (nullable = true)\n",
            " |-- Ladder score in Dystopia: string (nullable = true)\n",
            " |-- Explained by: Log GDP per capita: string (nullable = true)\n",
            " |-- Explained by: Social support: string (nullable = true)\n",
            " |-- Explained by: Healthy life expectancy: string (nullable = true)\n",
            " |-- Explained by: Freedom to make life choices: string (nullable = true)\n",
            " |-- Explained by: Generosity: string (nullable = true)\n",
            " |-- Explained by: Perceptions of corruption: string (nullable = true)\n",
            " |-- Dystopia + residual: string (nullable = true)\n",
            "\n"
          ]
        }
      ],
      "source": [
        "from pyspark.sql.types import IntegerType\n",
        "df21 = df21.withColumn('Ladder_score', col('Ladder_score').cast('float'))\n",
        "df21.printSchema()\n"
      ]
    },
    {
      "cell_type": "markdown",
      "metadata": {
        "id": "QAppUgzpDs48"
      },
      "source": [
        "## 1 - País más feliz"
      ]
    },
    {
      "cell_type": "markdown",
      "metadata": {
        "id": "SBMfdpBTC6Yx"
      },
      "source": [
        "Veamos el mínimo y máximo índice de felicidad en los datos"
      ]
    },
    {
      "cell_type": "code",
      "execution_count": null,
      "metadata": {
        "id": "7eig2KmI_Oi5"
      },
      "outputs": [],
      "source": [
        "df21.select(\n",
        "\n",
        "    min('Ladder_score'),\n",
        "    max('Ladder_score')\n",
        "\n",
        ").show()"
      ]
    },
    {
      "cell_type": "markdown",
      "metadata": {
        "id": "OI7SA0_wGdh_"
      },
      "source": [
        "Veamos el máximo y el mínimo error en los índices de felicidad para asegurarnos que el índice de felicidad no es afectado por el error"
      ]
    },
    {
      "cell_type": "code",
      "execution_count": null,
      "metadata": {
        "id": "YG7a7sNrGk5_"
      },
      "outputs": [],
      "source": [
        "df21.select(\n",
        "\n",
        "    min('Standard error of ladder score'),\n",
        "    max('Standard error of ladder score')\n",
        "\n",
        ").show()"
      ]
    },
    {
      "cell_type": "markdown",
      "metadata": {
        "id": "JAGr3TPyFcng"
      },
      "source": [
        "Sabiendo que el mayor índice está por encima de 7, encontramos el país con el mayor índice de felicidad"
      ]
    },
    {
      "cell_type": "code",
      "execution_count": null,
      "metadata": {
        "id": "yLhf0xZg_9ZR"
      },
      "outputs": [],
      "source": [
        "df21.select('Country_name', 'Ladder_score').filter(col('Ladder_score') > 7).show()"
      ]
    },
    {
      "cell_type": "code",
      "execution_count": null,
      "metadata": {
        "id": "2TS7HRJvDsSN",
        "colab": {
          "base_uri": "https://localhost:8080/",
          "height": 205
        },
        "outputId": "c25be5e9-da09-4e41-ef9b-b0e8542381bf"
      },
      "outputs": [
        {
          "output_type": "execute_result",
          "data": {
            "text/plain": [
              "  Country name Regional indicator  Ladder score  \\\n",
              "0      Finland     Western Europe         7.842   \n",
              "\n",
              "   Standard error of ladder score  upperwhisker  lowerwhisker  \\\n",
              "0                           0.032         7.904          7.78   \n",
              "\n",
              "   Logged GDP per capita  Social support  Healthy life expectancy  \\\n",
              "0                 10.775           0.954                     72.0   \n",
              "\n",
              "   Freedom to make life choices  Generosity  Perceptions of corruption  \\\n",
              "0                         0.949      -0.098                      0.186   \n",
              "\n",
              "   Ladder score in Dystopia  Explained by: Log GDP per capita  \\\n",
              "0                      2.43                             1.446   \n",
              "\n",
              "   Explained by: Social support  Explained by: Healthy life expectancy  \\\n",
              "0                         1.106                                  0.741   \n",
              "\n",
              "   Explained by: Freedom to make life choices  Explained by: Generosity  \\\n",
              "0                                       0.691                     0.124   \n",
              "\n",
              "   Explained by: Perceptions of corruption  Dystopia + residual  \n",
              "0                                    0.481                3.253  "
            ],
            "text/html": [
              "\n",
              "  <div id=\"df-b3e73710-c6f2-4115-8908-42fbb4010d4b\" class=\"colab-df-container\">\n",
              "    <div>\n",
              "<style scoped>\n",
              "    .dataframe tbody tr th:only-of-type {\n",
              "        vertical-align: middle;\n",
              "    }\n",
              "\n",
              "    .dataframe tbody tr th {\n",
              "        vertical-align: top;\n",
              "    }\n",
              "\n",
              "    .dataframe thead th {\n",
              "        text-align: right;\n",
              "    }\n",
              "</style>\n",
              "<table border=\"1\" class=\"dataframe\">\n",
              "  <thead>\n",
              "    <tr style=\"text-align: right;\">\n",
              "      <th></th>\n",
              "      <th>Country name</th>\n",
              "      <th>Regional indicator</th>\n",
              "      <th>Ladder score</th>\n",
              "      <th>Standard error of ladder score</th>\n",
              "      <th>upperwhisker</th>\n",
              "      <th>lowerwhisker</th>\n",
              "      <th>Logged GDP per capita</th>\n",
              "      <th>Social support</th>\n",
              "      <th>Healthy life expectancy</th>\n",
              "      <th>Freedom to make life choices</th>\n",
              "      <th>Generosity</th>\n",
              "      <th>Perceptions of corruption</th>\n",
              "      <th>Ladder score in Dystopia</th>\n",
              "      <th>Explained by: Log GDP per capita</th>\n",
              "      <th>Explained by: Social support</th>\n",
              "      <th>Explained by: Healthy life expectancy</th>\n",
              "      <th>Explained by: Freedom to make life choices</th>\n",
              "      <th>Explained by: Generosity</th>\n",
              "      <th>Explained by: Perceptions of corruption</th>\n",
              "      <th>Dystopia + residual</th>\n",
              "    </tr>\n",
              "  </thead>\n",
              "  <tbody>\n",
              "    <tr>\n",
              "      <th>0</th>\n",
              "      <td>Finland</td>\n",
              "      <td>Western Europe</td>\n",
              "      <td>7.842</td>\n",
              "      <td>0.032</td>\n",
              "      <td>7.904</td>\n",
              "      <td>7.78</td>\n",
              "      <td>10.775</td>\n",
              "      <td>0.954</td>\n",
              "      <td>72.0</td>\n",
              "      <td>0.949</td>\n",
              "      <td>-0.098</td>\n",
              "      <td>0.186</td>\n",
              "      <td>2.43</td>\n",
              "      <td>1.446</td>\n",
              "      <td>1.106</td>\n",
              "      <td>0.741</td>\n",
              "      <td>0.691</td>\n",
              "      <td>0.124</td>\n",
              "      <td>0.481</td>\n",
              "      <td>3.253</td>\n",
              "    </tr>\n",
              "  </tbody>\n",
              "</table>\n",
              "</div>\n",
              "    <div class=\"colab-df-buttons\">\n",
              "\n",
              "  <div class=\"colab-df-container\">\n",
              "    <button class=\"colab-df-convert\" onclick=\"convertToInteractive('df-b3e73710-c6f2-4115-8908-42fbb4010d4b')\"\n",
              "            title=\"Convert this dataframe to an interactive table.\"\n",
              "            style=\"display:none;\">\n",
              "\n",
              "  <svg xmlns=\"http://www.w3.org/2000/svg\" height=\"24px\" viewBox=\"0 -960 960 960\">\n",
              "    <path d=\"M120-120v-720h720v720H120Zm60-500h600v-160H180v160Zm220 220h160v-160H400v160Zm0 220h160v-160H400v160ZM180-400h160v-160H180v160Zm440 0h160v-160H620v160ZM180-180h160v-160H180v160Zm440 0h160v-160H620v160Z\"/>\n",
              "  </svg>\n",
              "    </button>\n",
              "\n",
              "  <style>\n",
              "    .colab-df-container {\n",
              "      display:flex;\n",
              "      gap: 12px;\n",
              "    }\n",
              "\n",
              "    .colab-df-convert {\n",
              "      background-color: #E8F0FE;\n",
              "      border: none;\n",
              "      border-radius: 50%;\n",
              "      cursor: pointer;\n",
              "      display: none;\n",
              "      fill: #1967D2;\n",
              "      height: 32px;\n",
              "      padding: 0 0 0 0;\n",
              "      width: 32px;\n",
              "    }\n",
              "\n",
              "    .colab-df-convert:hover {\n",
              "      background-color: #E2EBFA;\n",
              "      box-shadow: 0px 1px 2px rgba(60, 64, 67, 0.3), 0px 1px 3px 1px rgba(60, 64, 67, 0.15);\n",
              "      fill: #174EA6;\n",
              "    }\n",
              "\n",
              "    .colab-df-buttons div {\n",
              "      margin-bottom: 4px;\n",
              "    }\n",
              "\n",
              "    [theme=dark] .colab-df-convert {\n",
              "      background-color: #3B4455;\n",
              "      fill: #D2E3FC;\n",
              "    }\n",
              "\n",
              "    [theme=dark] .colab-df-convert:hover {\n",
              "      background-color: #434B5C;\n",
              "      box-shadow: 0px 1px 3px 1px rgba(0, 0, 0, 0.15);\n",
              "      filter: drop-shadow(0px 1px 2px rgba(0, 0, 0, 0.3));\n",
              "      fill: #FFFFFF;\n",
              "    }\n",
              "  </style>\n",
              "\n",
              "    <script>\n",
              "      const buttonEl =\n",
              "        document.querySelector('#df-b3e73710-c6f2-4115-8908-42fbb4010d4b button.colab-df-convert');\n",
              "      buttonEl.style.display =\n",
              "        google.colab.kernel.accessAllowed ? 'block' : 'none';\n",
              "\n",
              "      async function convertToInteractive(key) {\n",
              "        const element = document.querySelector('#df-b3e73710-c6f2-4115-8908-42fbb4010d4b');\n",
              "        const dataTable =\n",
              "          await google.colab.kernel.invokeFunction('convertToInteractive',\n",
              "                                                    [key], {});\n",
              "        if (!dataTable) return;\n",
              "\n",
              "        const docLinkHtml = 'Like what you see? Visit the ' +\n",
              "          '<a target=\"_blank\" href=https://colab.research.google.com/notebooks/data_table.ipynb>data table notebook</a>'\n",
              "          + ' to learn more about interactive tables.';\n",
              "        element.innerHTML = '';\n",
              "        dataTable['output_type'] = 'display_data';\n",
              "        await google.colab.output.renderOutput(dataTable, element);\n",
              "        const docLink = document.createElement('div');\n",
              "        docLink.innerHTML = docLinkHtml;\n",
              "        element.appendChild(docLink);\n",
              "      }\n",
              "    </script>\n",
              "  </div>\n",
              "\n",
              "    </div>\n",
              "  </div>\n"
            ]
          },
          "metadata": {},
          "execution_count": 13
        }
      ],
      "source": [
        "import pandas as pd\n",
        "data = pd.read_csv('world-happiness-report-2021.csv')\n",
        "df = pd.DataFrame(data)\n",
        "df[df['Ladder score'] == df['Ladder score'].max()]"
      ]
    },
    {
      "cell_type": "markdown",
      "metadata": {
        "id": "zzeVAk2nFiFT"
      },
      "source": [
        "verificamos el error de todos los países con un índice de felicidad mayor a 7 para asegurarnos que el índice de felicidad no es afectado"
      ]
    },
    {
      "cell_type": "code",
      "execution_count": null,
      "metadata": {
        "id": "aXWr-L8RERCC",
        "colab": {
          "base_uri": "https://localhost:8080/"
        },
        "outputId": "109afea5-cd42-43a6-9555-d652de27bbed"
      },
      "outputs": [
        {
          "output_type": "stream",
          "name": "stdout",
          "text": [
            "+--------------+------------+------------------------------+\n",
            "|  Country_name|Ladder_score|Standard error of ladder score|\n",
            "+--------------+------------+------------------------------+\n",
            "|       Finland|       7.842|                         0.032|\n",
            "|       Denmark|        7.62|                         0.035|\n",
            "|   Switzerland|       7.571|                         0.036|\n",
            "|       Iceland|       7.554|                         0.059|\n",
            "|   Netherlands|       7.464|                         0.027|\n",
            "|        Norway|       7.392|                         0.035|\n",
            "|        Sweden|       7.363|                         0.036|\n",
            "|    Luxembourg|       7.324|                         0.037|\n",
            "|   New Zealand|       7.277|                         0.040|\n",
            "|       Austria|       7.268|                         0.036|\n",
            "|     Australia|       7.183|                         0.041|\n",
            "|        Israel|       7.157|                         0.034|\n",
            "|       Germany|       7.155|                         0.040|\n",
            "|        Canada|       7.103|                         0.042|\n",
            "|       Ireland|       7.085|                         0.040|\n",
            "|    Costa Rica|       7.069|                         0.056|\n",
            "|United Kingdom|       7.064|                         0.038|\n",
            "+--------------+------------+------------------------------+\n",
            "\n"
          ]
        }
      ],
      "source": [
        "df21.select('Country_name', 'Ladder_score', 'Standard error of ladder score').where(col('Ladder score') >= 7).show()"
      ]
    },
    {
      "cell_type": "markdown",
      "metadata": {
        "id": "xiqgH-uAHOGc"
      },
      "source": [
        "Por lo tanto, podemos concluir que **Finlandia** es el país más feliz del mundo, según nuestra data"
      ]
    },
    {
      "cell_type": "markdown",
      "metadata": {
        "id": "EqCG84O_Hzak"
      },
      "source": [
        "## 2 - País más feliz por continente"
      ]
    },
    {
      "cell_type": "markdown",
      "metadata": {
        "id": "ja4XablmQjcy"
      },
      "source": [
        "Obtenemos los puntajes más altos por Continente mediante la columna Regional indicator"
      ]
    },
    {
      "cell_type": "code",
      "execution_count": null,
      "metadata": {
        "id": "j4Z4-7yai-WA",
        "colab": {
          "base_uri": "https://localhost:8080/",
          "height": 678
        },
        "outputId": "892163f3-8832-4a07-c713-6220ad6c3967"
      },
      "outputs": [
        {
          "output_type": "execute_result",
          "data": {
            "text/plain": [
              "                Country name                  Regional indicator  \\\n",
              "17            Czech Republic          Central and Eastern Europe   \n",
              "41                Uzbekistan  Commonwealth of Independent States   \n",
              "23  Taiwan Province of China                           East Asia   \n",
              "15                Costa Rica         Latin America and Caribbean   \n",
              "11                    Israel        Middle East and North Africa   \n",
              "8                New Zealand               North America and ANZ   \n",
              "86                     Nepal                          South Asia   \n",
              "31                 Singapore                      Southeast Asia   \n",
              "49                 Mauritius                  Sub-Saharan Africa   \n",
              "0                    Finland                      Western Europe   \n",
              "\n",
              "    Ladder score  Standard error of ladder score  upperwhisker  lowerwhisker  \\\n",
              "17         6.965                           0.049         7.062         6.868   \n",
              "41         6.179                           0.068         6.312         6.045   \n",
              "23         6.584                           0.038         6.659         6.510   \n",
              "15         7.069                           0.056         7.179         6.960   \n",
              "11         7.157                           0.034         7.224         7.090   \n",
              "8          7.277                           0.040         7.355         7.198   \n",
              "86         5.269                           0.070         5.406         5.132   \n",
              "31         6.377                           0.043         6.460         6.293   \n",
              "49         6.049                           0.059         6.165         5.933   \n",
              "0          7.842                           0.032         7.904         7.780   \n",
              "\n",
              "    Logged GDP per capita  Social support  Healthy life expectancy  \\\n",
              "17                 10.556           0.947                   70.807   \n",
              "41                  8.836           0.918                   65.255   \n",
              "23                 10.871           0.898                   69.600   \n",
              "15                  9.880           0.891                   71.400   \n",
              "11                 10.575           0.939                   73.503   \n",
              "8                  10.643           0.948                   73.400   \n",
              "86                  8.120           0.774                   64.233   \n",
              "31                 11.488           0.915                   76.953   \n",
              "49                 10.008           0.905                   66.701   \n",
              "0                  10.775           0.954                   72.000   \n",
              "\n",
              "    Freedom to make life choices  Generosity  Perceptions of corruption  \\\n",
              "17                         0.858      -0.208                      0.868   \n",
              "41                         0.970       0.311                      0.515   \n",
              "23                         0.784      -0.070                      0.721   \n",
              "15                         0.934      -0.126                      0.809   \n",
              "11                         0.800       0.031                      0.753   \n",
              "8                          0.929       0.134                      0.242   \n",
              "86                         0.782       0.152                      0.727   \n",
              "31                         0.927      -0.018                      0.082   \n",
              "49                         0.867      -0.054                      0.789   \n",
              "0                          0.949      -0.098                      0.186   \n",
              "\n",
              "    Ladder score in Dystopia  Explained by: Log GDP per capita  \\\n",
              "17                      2.43                             1.370   \n",
              "41                      2.43                             0.769   \n",
              "23                      2.43                             1.480   \n",
              "15                      2.43                             1.134   \n",
              "11                      2.43                             1.376   \n",
              "8                       2.43                             1.400   \n",
              "86                      2.43                             0.519   \n",
              "31                      2.43                             1.695   \n",
              "49                      2.43                             1.178   \n",
              "0                       2.43                             1.446   \n",
              "\n",
              "    Explained by: Social support  Explained by: Healthy life expectancy  \\\n",
              "17                         1.090                                  0.703   \n",
              "41                         1.027                                  0.528   \n",
              "23                         0.982                                  0.665   \n",
              "15                         0.966                                  0.722   \n",
              "11                         1.074                                  0.788   \n",
              "8                          1.094                                  0.785   \n",
              "86                         0.702                                  0.496   \n",
              "31                         1.019                                  0.897   \n",
              "49                         0.996                                  0.574   \n",
              "0                          1.106                                  0.741   \n",
              "\n",
              "    Explained by: Freedom to make life choices  Explained by: Generosity  \\\n",
              "17                                       0.580                     0.052   \n",
              "41                                       0.716                     0.391   \n",
              "23                                       0.490                     0.142   \n",
              "15                                       0.673                     0.105   \n",
              "11                                       0.509                     0.208   \n",
              "8                                        0.665                     0.276   \n",
              "86                                       0.488                     0.287   \n",
              "31                                       0.664                     0.176   \n",
              "49                                       0.590                     0.153   \n",
              "0                                        0.691                     0.124   \n",
              "\n",
              "    Explained by: Perceptions of corruption  Dystopia + residual  \n",
              "17                                    0.046                3.124  \n",
              "41                                    0.271                2.477  \n",
              "23                                    0.139                2.687  \n",
              "15                                    0.083                3.387  \n",
              "11                                    0.119                3.083  \n",
              "8                                     0.445                2.612  \n",
              "86                                    0.135                2.642  \n",
              "31                                    0.547                1.379  \n",
              "49                                    0.096                2.462  \n",
              "0                                     0.481                3.253  "
            ],
            "text/html": [
              "\n",
              "  <div id=\"df-81072000-c213-4e86-82e1-6eedeba12b21\" class=\"colab-df-container\">\n",
              "    <div>\n",
              "<style scoped>\n",
              "    .dataframe tbody tr th:only-of-type {\n",
              "        vertical-align: middle;\n",
              "    }\n",
              "\n",
              "    .dataframe tbody tr th {\n",
              "        vertical-align: top;\n",
              "    }\n",
              "\n",
              "    .dataframe thead th {\n",
              "        text-align: right;\n",
              "    }\n",
              "</style>\n",
              "<table border=\"1\" class=\"dataframe\">\n",
              "  <thead>\n",
              "    <tr style=\"text-align: right;\">\n",
              "      <th></th>\n",
              "      <th>Country name</th>\n",
              "      <th>Regional indicator</th>\n",
              "      <th>Ladder score</th>\n",
              "      <th>Standard error of ladder score</th>\n",
              "      <th>upperwhisker</th>\n",
              "      <th>lowerwhisker</th>\n",
              "      <th>Logged GDP per capita</th>\n",
              "      <th>Social support</th>\n",
              "      <th>Healthy life expectancy</th>\n",
              "      <th>Freedom to make life choices</th>\n",
              "      <th>Generosity</th>\n",
              "      <th>Perceptions of corruption</th>\n",
              "      <th>Ladder score in Dystopia</th>\n",
              "      <th>Explained by: Log GDP per capita</th>\n",
              "      <th>Explained by: Social support</th>\n",
              "      <th>Explained by: Healthy life expectancy</th>\n",
              "      <th>Explained by: Freedom to make life choices</th>\n",
              "      <th>Explained by: Generosity</th>\n",
              "      <th>Explained by: Perceptions of corruption</th>\n",
              "      <th>Dystopia + residual</th>\n",
              "    </tr>\n",
              "  </thead>\n",
              "  <tbody>\n",
              "    <tr>\n",
              "      <th>17</th>\n",
              "      <td>Czech Republic</td>\n",
              "      <td>Central and Eastern Europe</td>\n",
              "      <td>6.965</td>\n",
              "      <td>0.049</td>\n",
              "      <td>7.062</td>\n",
              "      <td>6.868</td>\n",
              "      <td>10.556</td>\n",
              "      <td>0.947</td>\n",
              "      <td>70.807</td>\n",
              "      <td>0.858</td>\n",
              "      <td>-0.208</td>\n",
              "      <td>0.868</td>\n",
              "      <td>2.43</td>\n",
              "      <td>1.370</td>\n",
              "      <td>1.090</td>\n",
              "      <td>0.703</td>\n",
              "      <td>0.580</td>\n",
              "      <td>0.052</td>\n",
              "      <td>0.046</td>\n",
              "      <td>3.124</td>\n",
              "    </tr>\n",
              "    <tr>\n",
              "      <th>41</th>\n",
              "      <td>Uzbekistan</td>\n",
              "      <td>Commonwealth of Independent States</td>\n",
              "      <td>6.179</td>\n",
              "      <td>0.068</td>\n",
              "      <td>6.312</td>\n",
              "      <td>6.045</td>\n",
              "      <td>8.836</td>\n",
              "      <td>0.918</td>\n",
              "      <td>65.255</td>\n",
              "      <td>0.970</td>\n",
              "      <td>0.311</td>\n",
              "      <td>0.515</td>\n",
              "      <td>2.43</td>\n",
              "      <td>0.769</td>\n",
              "      <td>1.027</td>\n",
              "      <td>0.528</td>\n",
              "      <td>0.716</td>\n",
              "      <td>0.391</td>\n",
              "      <td>0.271</td>\n",
              "      <td>2.477</td>\n",
              "    </tr>\n",
              "    <tr>\n",
              "      <th>23</th>\n",
              "      <td>Taiwan Province of China</td>\n",
              "      <td>East Asia</td>\n",
              "      <td>6.584</td>\n",
              "      <td>0.038</td>\n",
              "      <td>6.659</td>\n",
              "      <td>6.510</td>\n",
              "      <td>10.871</td>\n",
              "      <td>0.898</td>\n",
              "      <td>69.600</td>\n",
              "      <td>0.784</td>\n",
              "      <td>-0.070</td>\n",
              "      <td>0.721</td>\n",
              "      <td>2.43</td>\n",
              "      <td>1.480</td>\n",
              "      <td>0.982</td>\n",
              "      <td>0.665</td>\n",
              "      <td>0.490</td>\n",
              "      <td>0.142</td>\n",
              "      <td>0.139</td>\n",
              "      <td>2.687</td>\n",
              "    </tr>\n",
              "    <tr>\n",
              "      <th>15</th>\n",
              "      <td>Costa Rica</td>\n",
              "      <td>Latin America and Caribbean</td>\n",
              "      <td>7.069</td>\n",
              "      <td>0.056</td>\n",
              "      <td>7.179</td>\n",
              "      <td>6.960</td>\n",
              "      <td>9.880</td>\n",
              "      <td>0.891</td>\n",
              "      <td>71.400</td>\n",
              "      <td>0.934</td>\n",
              "      <td>-0.126</td>\n",
              "      <td>0.809</td>\n",
              "      <td>2.43</td>\n",
              "      <td>1.134</td>\n",
              "      <td>0.966</td>\n",
              "      <td>0.722</td>\n",
              "      <td>0.673</td>\n",
              "      <td>0.105</td>\n",
              "      <td>0.083</td>\n",
              "      <td>3.387</td>\n",
              "    </tr>\n",
              "    <tr>\n",
              "      <th>11</th>\n",
              "      <td>Israel</td>\n",
              "      <td>Middle East and North Africa</td>\n",
              "      <td>7.157</td>\n",
              "      <td>0.034</td>\n",
              "      <td>7.224</td>\n",
              "      <td>7.090</td>\n",
              "      <td>10.575</td>\n",
              "      <td>0.939</td>\n",
              "      <td>73.503</td>\n",
              "      <td>0.800</td>\n",
              "      <td>0.031</td>\n",
              "      <td>0.753</td>\n",
              "      <td>2.43</td>\n",
              "      <td>1.376</td>\n",
              "      <td>1.074</td>\n",
              "      <td>0.788</td>\n",
              "      <td>0.509</td>\n",
              "      <td>0.208</td>\n",
              "      <td>0.119</td>\n",
              "      <td>3.083</td>\n",
              "    </tr>\n",
              "    <tr>\n",
              "      <th>8</th>\n",
              "      <td>New Zealand</td>\n",
              "      <td>North America and ANZ</td>\n",
              "      <td>7.277</td>\n",
              "      <td>0.040</td>\n",
              "      <td>7.355</td>\n",
              "      <td>7.198</td>\n",
              "      <td>10.643</td>\n",
              "      <td>0.948</td>\n",
              "      <td>73.400</td>\n",
              "      <td>0.929</td>\n",
              "      <td>0.134</td>\n",
              "      <td>0.242</td>\n",
              "      <td>2.43</td>\n",
              "      <td>1.400</td>\n",
              "      <td>1.094</td>\n",
              "      <td>0.785</td>\n",
              "      <td>0.665</td>\n",
              "      <td>0.276</td>\n",
              "      <td>0.445</td>\n",
              "      <td>2.612</td>\n",
              "    </tr>\n",
              "    <tr>\n",
              "      <th>86</th>\n",
              "      <td>Nepal</td>\n",
              "      <td>South Asia</td>\n",
              "      <td>5.269</td>\n",
              "      <td>0.070</td>\n",
              "      <td>5.406</td>\n",
              "      <td>5.132</td>\n",
              "      <td>8.120</td>\n",
              "      <td>0.774</td>\n",
              "      <td>64.233</td>\n",
              "      <td>0.782</td>\n",
              "      <td>0.152</td>\n",
              "      <td>0.727</td>\n",
              "      <td>2.43</td>\n",
              "      <td>0.519</td>\n",
              "      <td>0.702</td>\n",
              "      <td>0.496</td>\n",
              "      <td>0.488</td>\n",
              "      <td>0.287</td>\n",
              "      <td>0.135</td>\n",
              "      <td>2.642</td>\n",
              "    </tr>\n",
              "    <tr>\n",
              "      <th>31</th>\n",
              "      <td>Singapore</td>\n",
              "      <td>Southeast Asia</td>\n",
              "      <td>6.377</td>\n",
              "      <td>0.043</td>\n",
              "      <td>6.460</td>\n",
              "      <td>6.293</td>\n",
              "      <td>11.488</td>\n",
              "      <td>0.915</td>\n",
              "      <td>76.953</td>\n",
              "      <td>0.927</td>\n",
              "      <td>-0.018</td>\n",
              "      <td>0.082</td>\n",
              "      <td>2.43</td>\n",
              "      <td>1.695</td>\n",
              "      <td>1.019</td>\n",
              "      <td>0.897</td>\n",
              "      <td>0.664</td>\n",
              "      <td>0.176</td>\n",
              "      <td>0.547</td>\n",
              "      <td>1.379</td>\n",
              "    </tr>\n",
              "    <tr>\n",
              "      <th>49</th>\n",
              "      <td>Mauritius</td>\n",
              "      <td>Sub-Saharan Africa</td>\n",
              "      <td>6.049</td>\n",
              "      <td>0.059</td>\n",
              "      <td>6.165</td>\n",
              "      <td>5.933</td>\n",
              "      <td>10.008</td>\n",
              "      <td>0.905</td>\n",
              "      <td>66.701</td>\n",
              "      <td>0.867</td>\n",
              "      <td>-0.054</td>\n",
              "      <td>0.789</td>\n",
              "      <td>2.43</td>\n",
              "      <td>1.178</td>\n",
              "      <td>0.996</td>\n",
              "      <td>0.574</td>\n",
              "      <td>0.590</td>\n",
              "      <td>0.153</td>\n",
              "      <td>0.096</td>\n",
              "      <td>2.462</td>\n",
              "    </tr>\n",
              "    <tr>\n",
              "      <th>0</th>\n",
              "      <td>Finland</td>\n",
              "      <td>Western Europe</td>\n",
              "      <td>7.842</td>\n",
              "      <td>0.032</td>\n",
              "      <td>7.904</td>\n",
              "      <td>7.780</td>\n",
              "      <td>10.775</td>\n",
              "      <td>0.954</td>\n",
              "      <td>72.000</td>\n",
              "      <td>0.949</td>\n",
              "      <td>-0.098</td>\n",
              "      <td>0.186</td>\n",
              "      <td>2.43</td>\n",
              "      <td>1.446</td>\n",
              "      <td>1.106</td>\n",
              "      <td>0.741</td>\n",
              "      <td>0.691</td>\n",
              "      <td>0.124</td>\n",
              "      <td>0.481</td>\n",
              "      <td>3.253</td>\n",
              "    </tr>\n",
              "  </tbody>\n",
              "</table>\n",
              "</div>\n",
              "    <div class=\"colab-df-buttons\">\n",
              "\n",
              "  <div class=\"colab-df-container\">\n",
              "    <button class=\"colab-df-convert\" onclick=\"convertToInteractive('df-81072000-c213-4e86-82e1-6eedeba12b21')\"\n",
              "            title=\"Convert this dataframe to an interactive table.\"\n",
              "            style=\"display:none;\">\n",
              "\n",
              "  <svg xmlns=\"http://www.w3.org/2000/svg\" height=\"24px\" viewBox=\"0 -960 960 960\">\n",
              "    <path d=\"M120-120v-720h720v720H120Zm60-500h600v-160H180v160Zm220 220h160v-160H400v160Zm0 220h160v-160H400v160ZM180-400h160v-160H180v160Zm440 0h160v-160H620v160ZM180-180h160v-160H180v160Zm440 0h160v-160H620v160Z\"/>\n",
              "  </svg>\n",
              "    </button>\n",
              "\n",
              "  <style>\n",
              "    .colab-df-container {\n",
              "      display:flex;\n",
              "      gap: 12px;\n",
              "    }\n",
              "\n",
              "    .colab-df-convert {\n",
              "      background-color: #E8F0FE;\n",
              "      border: none;\n",
              "      border-radius: 50%;\n",
              "      cursor: pointer;\n",
              "      display: none;\n",
              "      fill: #1967D2;\n",
              "      height: 32px;\n",
              "      padding: 0 0 0 0;\n",
              "      width: 32px;\n",
              "    }\n",
              "\n",
              "    .colab-df-convert:hover {\n",
              "      background-color: #E2EBFA;\n",
              "      box-shadow: 0px 1px 2px rgba(60, 64, 67, 0.3), 0px 1px 3px 1px rgba(60, 64, 67, 0.15);\n",
              "      fill: #174EA6;\n",
              "    }\n",
              "\n",
              "    .colab-df-buttons div {\n",
              "      margin-bottom: 4px;\n",
              "    }\n",
              "\n",
              "    [theme=dark] .colab-df-convert {\n",
              "      background-color: #3B4455;\n",
              "      fill: #D2E3FC;\n",
              "    }\n",
              "\n",
              "    [theme=dark] .colab-df-convert:hover {\n",
              "      background-color: #434B5C;\n",
              "      box-shadow: 0px 1px 3px 1px rgba(0, 0, 0, 0.15);\n",
              "      filter: drop-shadow(0px 1px 2px rgba(0, 0, 0, 0.3));\n",
              "      fill: #FFFFFF;\n",
              "    }\n",
              "  </style>\n",
              "\n",
              "    <script>\n",
              "      const buttonEl =\n",
              "        document.querySelector('#df-81072000-c213-4e86-82e1-6eedeba12b21 button.colab-df-convert');\n",
              "      buttonEl.style.display =\n",
              "        google.colab.kernel.accessAllowed ? 'block' : 'none';\n",
              "\n",
              "      async function convertToInteractive(key) {\n",
              "        const element = document.querySelector('#df-81072000-c213-4e86-82e1-6eedeba12b21');\n",
              "        const dataTable =\n",
              "          await google.colab.kernel.invokeFunction('convertToInteractive',\n",
              "                                                    [key], {});\n",
              "        if (!dataTable) return;\n",
              "\n",
              "        const docLinkHtml = 'Like what you see? Visit the ' +\n",
              "          '<a target=\"_blank\" href=https://colab.research.google.com/notebooks/data_table.ipynb>data table notebook</a>'\n",
              "          + ' to learn more about interactive tables.';\n",
              "        element.innerHTML = '';\n",
              "        dataTable['output_type'] = 'display_data';\n",
              "        await google.colab.output.renderOutput(dataTable, element);\n",
              "        const docLink = document.createElement('div');\n",
              "        docLink.innerHTML = docLinkHtml;\n",
              "        element.appendChild(docLink);\n",
              "      }\n",
              "    </script>\n",
              "  </div>\n",
              "\n",
              "\n",
              "<div id=\"df-0e5867b7-ab30-4cba-9406-515a9745d059\">\n",
              "  <button class=\"colab-df-quickchart\" onclick=\"quickchart('df-0e5867b7-ab30-4cba-9406-515a9745d059')\"\n",
              "            title=\"Suggest charts\"\n",
              "            style=\"display:none;\">\n",
              "\n",
              "<svg xmlns=\"http://www.w3.org/2000/svg\" height=\"24px\"viewBox=\"0 0 24 24\"\n",
              "     width=\"24px\">\n",
              "    <g>\n",
              "        <path d=\"M19 3H5c-1.1 0-2 .9-2 2v14c0 1.1.9 2 2 2h14c1.1 0 2-.9 2-2V5c0-1.1-.9-2-2-2zM9 17H7v-7h2v7zm4 0h-2V7h2v10zm4 0h-2v-4h2v4z\"/>\n",
              "    </g>\n",
              "</svg>\n",
              "  </button>\n",
              "\n",
              "<style>\n",
              "  .colab-df-quickchart {\n",
              "      --bg-color: #E8F0FE;\n",
              "      --fill-color: #1967D2;\n",
              "      --hover-bg-color: #E2EBFA;\n",
              "      --hover-fill-color: #174EA6;\n",
              "      --disabled-fill-color: #AAA;\n",
              "      --disabled-bg-color: #DDD;\n",
              "  }\n",
              "\n",
              "  [theme=dark] .colab-df-quickchart {\n",
              "      --bg-color: #3B4455;\n",
              "      --fill-color: #D2E3FC;\n",
              "      --hover-bg-color: #434B5C;\n",
              "      --hover-fill-color: #FFFFFF;\n",
              "      --disabled-bg-color: #3B4455;\n",
              "      --disabled-fill-color: #666;\n",
              "  }\n",
              "\n",
              "  .colab-df-quickchart {\n",
              "    background-color: var(--bg-color);\n",
              "    border: none;\n",
              "    border-radius: 50%;\n",
              "    cursor: pointer;\n",
              "    display: none;\n",
              "    fill: var(--fill-color);\n",
              "    height: 32px;\n",
              "    padding: 0;\n",
              "    width: 32px;\n",
              "  }\n",
              "\n",
              "  .colab-df-quickchart:hover {\n",
              "    background-color: var(--hover-bg-color);\n",
              "    box-shadow: 0 1px 2px rgba(60, 64, 67, 0.3), 0 1px 3px 1px rgba(60, 64, 67, 0.15);\n",
              "    fill: var(--button-hover-fill-color);\n",
              "  }\n",
              "\n",
              "  .colab-df-quickchart-complete:disabled,\n",
              "  .colab-df-quickchart-complete:disabled:hover {\n",
              "    background-color: var(--disabled-bg-color);\n",
              "    fill: var(--disabled-fill-color);\n",
              "    box-shadow: none;\n",
              "  }\n",
              "\n",
              "  .colab-df-spinner {\n",
              "    border: 2px solid var(--fill-color);\n",
              "    border-color: transparent;\n",
              "    border-bottom-color: var(--fill-color);\n",
              "    animation:\n",
              "      spin 1s steps(1) infinite;\n",
              "  }\n",
              "\n",
              "  @keyframes spin {\n",
              "    0% {\n",
              "      border-color: transparent;\n",
              "      border-bottom-color: var(--fill-color);\n",
              "      border-left-color: var(--fill-color);\n",
              "    }\n",
              "    20% {\n",
              "      border-color: transparent;\n",
              "      border-left-color: var(--fill-color);\n",
              "      border-top-color: var(--fill-color);\n",
              "    }\n",
              "    30% {\n",
              "      border-color: transparent;\n",
              "      border-left-color: var(--fill-color);\n",
              "      border-top-color: var(--fill-color);\n",
              "      border-right-color: var(--fill-color);\n",
              "    }\n",
              "    40% {\n",
              "      border-color: transparent;\n",
              "      border-right-color: var(--fill-color);\n",
              "      border-top-color: var(--fill-color);\n",
              "    }\n",
              "    60% {\n",
              "      border-color: transparent;\n",
              "      border-right-color: var(--fill-color);\n",
              "    }\n",
              "    80% {\n",
              "      border-color: transparent;\n",
              "      border-right-color: var(--fill-color);\n",
              "      border-bottom-color: var(--fill-color);\n",
              "    }\n",
              "    90% {\n",
              "      border-color: transparent;\n",
              "      border-bottom-color: var(--fill-color);\n",
              "    }\n",
              "  }\n",
              "</style>\n",
              "\n",
              "  <script>\n",
              "    async function quickchart(key) {\n",
              "      const quickchartButtonEl =\n",
              "        document.querySelector('#' + key + ' button');\n",
              "      quickchartButtonEl.disabled = true;  // To prevent multiple clicks.\n",
              "      quickchartButtonEl.classList.add('colab-df-spinner');\n",
              "      try {\n",
              "        const charts = await google.colab.kernel.invokeFunction(\n",
              "            'suggestCharts', [key], {});\n",
              "      } catch (error) {\n",
              "        console.error('Error during call to suggestCharts:', error);\n",
              "      }\n",
              "      quickchartButtonEl.classList.remove('colab-df-spinner');\n",
              "      quickchartButtonEl.classList.add('colab-df-quickchart-complete');\n",
              "    }\n",
              "    (() => {\n",
              "      let quickchartButtonEl =\n",
              "        document.querySelector('#df-0e5867b7-ab30-4cba-9406-515a9745d059 button');\n",
              "      quickchartButtonEl.style.display =\n",
              "        google.colab.kernel.accessAllowed ? 'block' : 'none';\n",
              "    })();\n",
              "  </script>\n",
              "</div>\n",
              "    </div>\n",
              "  </div>\n"
            ]
          },
          "metadata": {},
          "execution_count": 23
        }
      ],
      "source": [
        "df.iloc[df.groupby('Regional indicator').agg(paises_felices = ('Ladder score', lambda df: df.idxmax())).paises_felices]"
      ]
    },
    {
      "cell_type": "markdown",
      "metadata": {
        "id": "L4ear7roQy2z"
      },
      "source": [
        "## 3 - País que ocupó más veces el primer lugar"
      ]
    },
    {
      "cell_type": "markdown",
      "metadata": {
        "id": "183LGFkDQ-rP"
      },
      "source": [
        "Cargamos nuestro data de los años anteriores al 2021"
      ]
    },
    {
      "cell_type": "code",
      "execution_count": null,
      "metadata": {
        "id": "sk8UJ2H8LuB6"
      },
      "outputs": [],
      "source": [
        "dfanteriores = spark.read.option('header','true').csv('./world-happiness-report.csv')"
      ]
    },
    {
      "cell_type": "markdown",
      "metadata": {
        "id": "Re-TwzOeRDq0"
      },
      "source": [
        "verificamos el tipo de dato de las columnas"
      ]
    },
    {
      "cell_type": "code",
      "execution_count": null,
      "metadata": {
        "id": "bdVXb1x54923",
        "colab": {
          "base_uri": "https://localhost:8080/"
        },
        "outputId": "f19d7f33-7a78-4d9f-ac04-181e3c291752"
      },
      "outputs": [
        {
          "output_type": "stream",
          "name": "stdout",
          "text": [
            "root\n",
            " |-- Country name: string (nullable = true)\n",
            " |-- year: string (nullable = true)\n",
            " |-- Life Ladder: float (nullable = true)\n",
            " |-- Log GDP per capita: string (nullable = true)\n",
            " |-- Social support: string (nullable = true)\n",
            " |-- Healthy life expectancy at birth: string (nullable = true)\n",
            " |-- Freedom to make life choices: string (nullable = true)\n",
            " |-- Generosity: string (nullable = true)\n",
            " |-- Perceptions of corruption: string (nullable = true)\n",
            " |-- Positive affect: string (nullable = true)\n",
            " |-- Negative affect: string (nullable = true)\n",
            "\n"
          ]
        }
      ],
      "source": [
        "dfanteriores.printSchema()"
      ]
    },
    {
      "cell_type": "markdown",
      "metadata": {
        "id": "hF9iBijhRIXK"
      },
      "source": [
        "Convertimos la columna Life Ladder a decimal, ya que es string"
      ]
    },
    {
      "cell_type": "code",
      "execution_count": null,
      "metadata": {
        "id": "iX7xDFlNCtL6"
      },
      "outputs": [],
      "source": [
        "dfanteriores = dfanteriores.withColumn('Life Ladder', col('Life Ladder').cast('float'))"
      ]
    },
    {
      "cell_type": "code",
      "execution_count": null,
      "metadata": {
        "id": "QTDAWI59DA01",
        "colab": {
          "base_uri": "https://localhost:8080/"
        },
        "outputId": "fa35cdfc-4956-4460-ed90-c46242020755"
      },
      "outputs": [
        {
          "output_type": "stream",
          "name": "stdout",
          "text": [
            "root\n",
            " |-- Country name: string (nullable = true)\n",
            " |-- year: string (nullable = true)\n",
            " |-- Life Ladder: float (nullable = true)\n",
            " |-- Log GDP per capita: string (nullable = true)\n",
            " |-- Social support: string (nullable = true)\n",
            " |-- Healthy life expectancy at birth: string (nullable = true)\n",
            " |-- Freedom to make life choices: string (nullable = true)\n",
            " |-- Generosity: string (nullable = true)\n",
            " |-- Perceptions of corruption: string (nullable = true)\n",
            " |-- Positive affect: string (nullable = true)\n",
            " |-- Negative affect: string (nullable = true)\n",
            "\n"
          ]
        }
      ],
      "source": [
        "dfanteriores.printSchema()"
      ]
    },
    {
      "cell_type": "markdown",
      "metadata": {
        "id": "DOo0kD3bRQYx"
      },
      "source": [
        "Creamos un dataframe para pandas"
      ]
    },
    {
      "cell_type": "code",
      "execution_count": null,
      "metadata": {
        "id": "JGBJqXe2D0t8"
      },
      "outputs": [],
      "source": [
        "datat = pd.read_csv('world-happiness-report.csv')\n",
        "dft = pd.DataFrame(datat)"
      ]
    },
    {
      "cell_type": "markdown",
      "metadata": {
        "id": "I_tlKLlpRYEc"
      },
      "source": [
        "Obtenemos el mayor puntaje por cada año"
      ]
    },
    {
      "cell_type": "code",
      "execution_count": null,
      "metadata": {
        "id": "aLBQI-j24F_W"
      },
      "outputs": [],
      "source": [
        "primeros = dft.iloc[dft.groupby('year').agg(primer_lugar = ('Life Ladder', lambda dft: dft.idxmax())).primer_lugar]"
      ]
    },
    {
      "cell_type": "markdown",
      "metadata": {
        "id": "6muasfTNRhPt"
      },
      "source": [
        "Convertimos a lista la columna de los países con mayor puntaje por años"
      ]
    },
    {
      "cell_type": "code",
      "execution_count": null,
      "metadata": {
        "id": "NIVa1KRCJAJA"
      },
      "outputs": [],
      "source": [
        "lista_primeros = primeros['Country name'].to_list()"
      ]
    },
    {
      "cell_type": "markdown",
      "metadata": {
        "id": "kg4LlfoLR5dV"
      },
      "source": [
        "Obtenemos las veces que se repiten los países que más aparecen"
      ]
    },
    {
      "cell_type": "code",
      "execution_count": null,
      "metadata": {
        "id": "BCOkfqs1HazX",
        "colab": {
          "base_uri": "https://localhost:8080/"
        },
        "outputId": "5db9141c-3ecc-40df-821e-90a4ec6ac548"
      },
      "outputs": [
        {
          "output_type": "stream",
          "name": "stdout",
          "text": [
            "7\n",
            "6\n"
          ]
        }
      ],
      "source": [
        "print(lista_primeros.count('Denmark'))\n",
        "print(lista_primeros.count('Finland'))"
      ]
    },
    {
      "cell_type": "markdown",
      "metadata": {
        "id": "A-T7bdl3R7d5"
      },
      "source": [
        "Los dos países que más aparecen como países felices en el mundo son: Dinamarca y Finlandia.\n",
        "\n",
        "\n",
        "Concluimos que el país que más veces ha ocupado el primer lugar dentro de los países más felices del mundo es **Dinamarca**"
      ]
    },
    {
      "cell_type": "markdown",
      "metadata": {
        "id": "XIA8-NNVS607"
      },
      "source": [
        "## 4 - País con mayor GDP y su posición en Felicidad"
      ]
    },
    {
      "cell_type": "code",
      "execution_count": null,
      "metadata": {
        "id": "t6u5hgc2TCq9",
        "colab": {
          "base_uri": "https://localhost:8080/",
          "height": 152
        },
        "outputId": "3158abb9-9797-4a5f-b1ac-baae0719601e"
      },
      "outputs": [
        {
          "output_type": "execute_result",
          "data": {
            "text/plain": [
              "     Country name  year  Life Ladder  Log GDP per capita  Social support  \\\n",
              "1026   Luxembourg  2019        7.404              11.648           0.912   \n",
              "\n",
              "      Healthy life expectancy at birth  Freedom to make life choices  \\\n",
              "1026                              72.6                          0.93   \n",
              "\n",
              "      Generosity  Perceptions of corruption  Positive affect  Negative affect  \n",
              "1026      -0.045                       0.39            0.789            0.212  "
            ],
            "text/html": [
              "\n",
              "  <div id=\"df-f800580f-aa16-439a-bfd6-8ce7a014bcb1\" class=\"colab-df-container\">\n",
              "    <div>\n",
              "<style scoped>\n",
              "    .dataframe tbody tr th:only-of-type {\n",
              "        vertical-align: middle;\n",
              "    }\n",
              "\n",
              "    .dataframe tbody tr th {\n",
              "        vertical-align: top;\n",
              "    }\n",
              "\n",
              "    .dataframe thead th {\n",
              "        text-align: right;\n",
              "    }\n",
              "</style>\n",
              "<table border=\"1\" class=\"dataframe\">\n",
              "  <thead>\n",
              "    <tr style=\"text-align: right;\">\n",
              "      <th></th>\n",
              "      <th>Country name</th>\n",
              "      <th>year</th>\n",
              "      <th>Life Ladder</th>\n",
              "      <th>Log GDP per capita</th>\n",
              "      <th>Social support</th>\n",
              "      <th>Healthy life expectancy at birth</th>\n",
              "      <th>Freedom to make life choices</th>\n",
              "      <th>Generosity</th>\n",
              "      <th>Perceptions of corruption</th>\n",
              "      <th>Positive affect</th>\n",
              "      <th>Negative affect</th>\n",
              "    </tr>\n",
              "  </thead>\n",
              "  <tbody>\n",
              "    <tr>\n",
              "      <th>1026</th>\n",
              "      <td>Luxembourg</td>\n",
              "      <td>2019</td>\n",
              "      <td>7.404</td>\n",
              "      <td>11.648</td>\n",
              "      <td>0.912</td>\n",
              "      <td>72.6</td>\n",
              "      <td>0.93</td>\n",
              "      <td>-0.045</td>\n",
              "      <td>0.39</td>\n",
              "      <td>0.789</td>\n",
              "      <td>0.212</td>\n",
              "    </tr>\n",
              "  </tbody>\n",
              "</table>\n",
              "</div>\n",
              "    <div class=\"colab-df-buttons\">\n",
              "\n",
              "  <div class=\"colab-df-container\">\n",
              "    <button class=\"colab-df-convert\" onclick=\"convertToInteractive('df-f800580f-aa16-439a-bfd6-8ce7a014bcb1')\"\n",
              "            title=\"Convert this dataframe to an interactive table.\"\n",
              "            style=\"display:none;\">\n",
              "\n",
              "  <svg xmlns=\"http://www.w3.org/2000/svg\" height=\"24px\" viewBox=\"0 -960 960 960\">\n",
              "    <path d=\"M120-120v-720h720v720H120Zm60-500h600v-160H180v160Zm220 220h160v-160H400v160Zm0 220h160v-160H400v160ZM180-400h160v-160H180v160Zm440 0h160v-160H620v160ZM180-180h160v-160H180v160Zm440 0h160v-160H620v160Z\"/>\n",
              "  </svg>\n",
              "    </button>\n",
              "\n",
              "  <style>\n",
              "    .colab-df-container {\n",
              "      display:flex;\n",
              "      gap: 12px;\n",
              "    }\n",
              "\n",
              "    .colab-df-convert {\n",
              "      background-color: #E8F0FE;\n",
              "      border: none;\n",
              "      border-radius: 50%;\n",
              "      cursor: pointer;\n",
              "      display: none;\n",
              "      fill: #1967D2;\n",
              "      height: 32px;\n",
              "      padding: 0 0 0 0;\n",
              "      width: 32px;\n",
              "    }\n",
              "\n",
              "    .colab-df-convert:hover {\n",
              "      background-color: #E2EBFA;\n",
              "      box-shadow: 0px 1px 2px rgba(60, 64, 67, 0.3), 0px 1px 3px 1px rgba(60, 64, 67, 0.15);\n",
              "      fill: #174EA6;\n",
              "    }\n",
              "\n",
              "    .colab-df-buttons div {\n",
              "      margin-bottom: 4px;\n",
              "    }\n",
              "\n",
              "    [theme=dark] .colab-df-convert {\n",
              "      background-color: #3B4455;\n",
              "      fill: #D2E3FC;\n",
              "    }\n",
              "\n",
              "    [theme=dark] .colab-df-convert:hover {\n",
              "      background-color: #434B5C;\n",
              "      box-shadow: 0px 1px 3px 1px rgba(0, 0, 0, 0.15);\n",
              "      filter: drop-shadow(0px 1px 2px rgba(0, 0, 0, 0.3));\n",
              "      fill: #FFFFFF;\n",
              "    }\n",
              "  </style>\n",
              "\n",
              "    <script>\n",
              "      const buttonEl =\n",
              "        document.querySelector('#df-f800580f-aa16-439a-bfd6-8ce7a014bcb1 button.colab-df-convert');\n",
              "      buttonEl.style.display =\n",
              "        google.colab.kernel.accessAllowed ? 'block' : 'none';\n",
              "\n",
              "      async function convertToInteractive(key) {\n",
              "        const element = document.querySelector('#df-f800580f-aa16-439a-bfd6-8ce7a014bcb1');\n",
              "        const dataTable =\n",
              "          await google.colab.kernel.invokeFunction('convertToInteractive',\n",
              "                                                    [key], {});\n",
              "        if (!dataTable) return;\n",
              "\n",
              "        const docLinkHtml = 'Like what you see? Visit the ' +\n",
              "          '<a target=\"_blank\" href=https://colab.research.google.com/notebooks/data_table.ipynb>data table notebook</a>'\n",
              "          + ' to learn more about interactive tables.';\n",
              "        element.innerHTML = '';\n",
              "        dataTable['output_type'] = 'display_data';\n",
              "        await google.colab.output.renderOutput(dataTable, element);\n",
              "        const docLink = document.createElement('div');\n",
              "        docLink.innerHTML = docLinkHtml;\n",
              "        element.appendChild(docLink);\n",
              "      }\n",
              "    </script>\n",
              "  </div>\n",
              "\n",
              "    </div>\n",
              "  </div>\n"
            ]
          },
          "metadata": {},
          "execution_count": 28
        }
      ],
      "source": [
        "dft[dft['Log GDP per capita'] == dft['Log GDP per capita'].max()]"
      ]
    },
    {
      "cell_type": "markdown",
      "metadata": {
        "id": "EH_ud7hjTodB"
      },
      "source": [
        "Luxemburgo es el país con mayor PIB per capita"
      ]
    },
    {
      "cell_type": "markdown",
      "metadata": {
        "id": "c9zq8U-vM4Ro"
      },
      "source": [
        "Países con mayor felicidad ordenados de mayor a menor"
      ]
    },
    {
      "cell_type": "code",
      "execution_count": null,
      "metadata": {
        "id": "wl51sx8BUJqq",
        "colab": {
          "base_uri": "https://localhost:8080/",
          "height": 530
        },
        "outputId": "3aa8db1c-6edc-4085-de90-2000384a1214"
      },
      "outputs": [
        {
          "output_type": "execute_result",
          "data": {
            "text/plain": [
              "      index              Country name  year  Life Ladder  Log GDP per capita  \\\n",
              "0       449                   Denmark  2005        8.019              10.851   \n",
              "1       451                   Denmark  2008        7.971              10.880   \n",
              "2       563                   Finland  2020        7.889              10.750   \n",
              "3       561                   Finland  2018        7.858              10.783   \n",
              "4       450                   Denmark  2007        7.834              10.891   \n",
              "...     ...                       ...   ...          ...                 ...   \n",
              "1944   1947                  Zimbabwe  2019        2.694               7.950   \n",
              "1945    311  Central African Republic  2016        2.693               6.785   \n",
              "1946   1667                     Syria  2013        2.688               8.396   \n",
              "1947      9               Afghanistan  2017        2.662               7.697   \n",
              "1948     11               Afghanistan  2019        2.375               7.697   \n",
              "\n",
              "      Social support  Healthy life expectancy at birth  \\\n",
              "0              0.972                             69.60   \n",
              "1              0.954                             70.08   \n",
              "2              0.962                             72.10   \n",
              "3              0.962                             71.90   \n",
              "4              0.954                             69.92   \n",
              "...              ...                               ...   \n",
              "1944           0.759                             56.20   \n",
              "1945           0.290                             44.90   \n",
              "1946           0.585                             58.76   \n",
              "1947           0.491                             52.80   \n",
              "1948           0.420                             52.40   \n",
              "\n",
              "      Freedom to make life choices  Generosity  Perceptions of corruption  \\\n",
              "0                            0.971         NaN                      0.237   \n",
              "1                            0.970       0.272                      0.248   \n",
              "2                            0.962      -0.116                      0.164   \n",
              "3                            0.938      -0.127                      0.199   \n",
              "4                            0.932       0.240                      0.206   \n",
              "...                            ...         ...                        ...   \n",
              "1944                         0.632      -0.064                      0.831   \n",
              "1945                         0.624       0.033                      0.859   \n",
              "1946                         0.455       0.225                      0.663   \n",
              "1947                         0.427      -0.121                      0.954   \n",
              "1948                         0.394      -0.108                      0.924   \n",
              "\n",
              "      Positive affect  Negative affect  \n",
              "0               0.860            0.154  \n",
              "1               0.757            0.163  \n",
              "2               0.744            0.193  \n",
              "3               0.782            0.182  \n",
              "4               0.828            0.194  \n",
              "...               ...              ...  \n",
              "1944            0.716            0.235  \n",
              "1945            0.579            0.494  \n",
              "1946            0.387            0.622  \n",
              "1947            0.496            0.371  \n",
              "1948            0.351            0.502  \n",
              "\n",
              "[1949 rows x 12 columns]"
            ],
            "text/html": [
              "\n",
              "  <div id=\"df-722d282a-8d9b-475e-85d3-07eea5a6f6db\" class=\"colab-df-container\">\n",
              "    <div>\n",
              "<style scoped>\n",
              "    .dataframe tbody tr th:only-of-type {\n",
              "        vertical-align: middle;\n",
              "    }\n",
              "\n",
              "    .dataframe tbody tr th {\n",
              "        vertical-align: top;\n",
              "    }\n",
              "\n",
              "    .dataframe thead th {\n",
              "        text-align: right;\n",
              "    }\n",
              "</style>\n",
              "<table border=\"1\" class=\"dataframe\">\n",
              "  <thead>\n",
              "    <tr style=\"text-align: right;\">\n",
              "      <th></th>\n",
              "      <th>index</th>\n",
              "      <th>Country name</th>\n",
              "      <th>year</th>\n",
              "      <th>Life Ladder</th>\n",
              "      <th>Log GDP per capita</th>\n",
              "      <th>Social support</th>\n",
              "      <th>Healthy life expectancy at birth</th>\n",
              "      <th>Freedom to make life choices</th>\n",
              "      <th>Generosity</th>\n",
              "      <th>Perceptions of corruption</th>\n",
              "      <th>Positive affect</th>\n",
              "      <th>Negative affect</th>\n",
              "    </tr>\n",
              "  </thead>\n",
              "  <tbody>\n",
              "    <tr>\n",
              "      <th>0</th>\n",
              "      <td>449</td>\n",
              "      <td>Denmark</td>\n",
              "      <td>2005</td>\n",
              "      <td>8.019</td>\n",
              "      <td>10.851</td>\n",
              "      <td>0.972</td>\n",
              "      <td>69.60</td>\n",
              "      <td>0.971</td>\n",
              "      <td>NaN</td>\n",
              "      <td>0.237</td>\n",
              "      <td>0.860</td>\n",
              "      <td>0.154</td>\n",
              "    </tr>\n",
              "    <tr>\n",
              "      <th>1</th>\n",
              "      <td>451</td>\n",
              "      <td>Denmark</td>\n",
              "      <td>2008</td>\n",
              "      <td>7.971</td>\n",
              "      <td>10.880</td>\n",
              "      <td>0.954</td>\n",
              "      <td>70.08</td>\n",
              "      <td>0.970</td>\n",
              "      <td>0.272</td>\n",
              "      <td>0.248</td>\n",
              "      <td>0.757</td>\n",
              "      <td>0.163</td>\n",
              "    </tr>\n",
              "    <tr>\n",
              "      <th>2</th>\n",
              "      <td>563</td>\n",
              "      <td>Finland</td>\n",
              "      <td>2020</td>\n",
              "      <td>7.889</td>\n",
              "      <td>10.750</td>\n",
              "      <td>0.962</td>\n",
              "      <td>72.10</td>\n",
              "      <td>0.962</td>\n",
              "      <td>-0.116</td>\n",
              "      <td>0.164</td>\n",
              "      <td>0.744</td>\n",
              "      <td>0.193</td>\n",
              "    </tr>\n",
              "    <tr>\n",
              "      <th>3</th>\n",
              "      <td>561</td>\n",
              "      <td>Finland</td>\n",
              "      <td>2018</td>\n",
              "      <td>7.858</td>\n",
              "      <td>10.783</td>\n",
              "      <td>0.962</td>\n",
              "      <td>71.90</td>\n",
              "      <td>0.938</td>\n",
              "      <td>-0.127</td>\n",
              "      <td>0.199</td>\n",
              "      <td>0.782</td>\n",
              "      <td>0.182</td>\n",
              "    </tr>\n",
              "    <tr>\n",
              "      <th>4</th>\n",
              "      <td>450</td>\n",
              "      <td>Denmark</td>\n",
              "      <td>2007</td>\n",
              "      <td>7.834</td>\n",
              "      <td>10.891</td>\n",
              "      <td>0.954</td>\n",
              "      <td>69.92</td>\n",
              "      <td>0.932</td>\n",
              "      <td>0.240</td>\n",
              "      <td>0.206</td>\n",
              "      <td>0.828</td>\n",
              "      <td>0.194</td>\n",
              "    </tr>\n",
              "    <tr>\n",
              "      <th>...</th>\n",
              "      <td>...</td>\n",
              "      <td>...</td>\n",
              "      <td>...</td>\n",
              "      <td>...</td>\n",
              "      <td>...</td>\n",
              "      <td>...</td>\n",
              "      <td>...</td>\n",
              "      <td>...</td>\n",
              "      <td>...</td>\n",
              "      <td>...</td>\n",
              "      <td>...</td>\n",
              "      <td>...</td>\n",
              "    </tr>\n",
              "    <tr>\n",
              "      <th>1944</th>\n",
              "      <td>1947</td>\n",
              "      <td>Zimbabwe</td>\n",
              "      <td>2019</td>\n",
              "      <td>2.694</td>\n",
              "      <td>7.950</td>\n",
              "      <td>0.759</td>\n",
              "      <td>56.20</td>\n",
              "      <td>0.632</td>\n",
              "      <td>-0.064</td>\n",
              "      <td>0.831</td>\n",
              "      <td>0.716</td>\n",
              "      <td>0.235</td>\n",
              "    </tr>\n",
              "    <tr>\n",
              "      <th>1945</th>\n",
              "      <td>311</td>\n",
              "      <td>Central African Republic</td>\n",
              "      <td>2016</td>\n",
              "      <td>2.693</td>\n",
              "      <td>6.785</td>\n",
              "      <td>0.290</td>\n",
              "      <td>44.90</td>\n",
              "      <td>0.624</td>\n",
              "      <td>0.033</td>\n",
              "      <td>0.859</td>\n",
              "      <td>0.579</td>\n",
              "      <td>0.494</td>\n",
              "    </tr>\n",
              "    <tr>\n",
              "      <th>1946</th>\n",
              "      <td>1667</td>\n",
              "      <td>Syria</td>\n",
              "      <td>2013</td>\n",
              "      <td>2.688</td>\n",
              "      <td>8.396</td>\n",
              "      <td>0.585</td>\n",
              "      <td>58.76</td>\n",
              "      <td>0.455</td>\n",
              "      <td>0.225</td>\n",
              "      <td>0.663</td>\n",
              "      <td>0.387</td>\n",
              "      <td>0.622</td>\n",
              "    </tr>\n",
              "    <tr>\n",
              "      <th>1947</th>\n",
              "      <td>9</td>\n",
              "      <td>Afghanistan</td>\n",
              "      <td>2017</td>\n",
              "      <td>2.662</td>\n",
              "      <td>7.697</td>\n",
              "      <td>0.491</td>\n",
              "      <td>52.80</td>\n",
              "      <td>0.427</td>\n",
              "      <td>-0.121</td>\n",
              "      <td>0.954</td>\n",
              "      <td>0.496</td>\n",
              "      <td>0.371</td>\n",
              "    </tr>\n",
              "    <tr>\n",
              "      <th>1948</th>\n",
              "      <td>11</td>\n",
              "      <td>Afghanistan</td>\n",
              "      <td>2019</td>\n",
              "      <td>2.375</td>\n",
              "      <td>7.697</td>\n",
              "      <td>0.420</td>\n",
              "      <td>52.40</td>\n",
              "      <td>0.394</td>\n",
              "      <td>-0.108</td>\n",
              "      <td>0.924</td>\n",
              "      <td>0.351</td>\n",
              "      <td>0.502</td>\n",
              "    </tr>\n",
              "  </tbody>\n",
              "</table>\n",
              "<p>1949 rows × 12 columns</p>\n",
              "</div>\n",
              "    <div class=\"colab-df-buttons\">\n",
              "\n",
              "  <div class=\"colab-df-container\">\n",
              "    <button class=\"colab-df-convert\" onclick=\"convertToInteractive('df-722d282a-8d9b-475e-85d3-07eea5a6f6db')\"\n",
              "            title=\"Convert this dataframe to an interactive table.\"\n",
              "            style=\"display:none;\">\n",
              "\n",
              "  <svg xmlns=\"http://www.w3.org/2000/svg\" height=\"24px\" viewBox=\"0 -960 960 960\">\n",
              "    <path d=\"M120-120v-720h720v720H120Zm60-500h600v-160H180v160Zm220 220h160v-160H400v160Zm0 220h160v-160H400v160ZM180-400h160v-160H180v160Zm440 0h160v-160H620v160ZM180-180h160v-160H180v160Zm440 0h160v-160H620v160Z\"/>\n",
              "  </svg>\n",
              "    </button>\n",
              "\n",
              "  <style>\n",
              "    .colab-df-container {\n",
              "      display:flex;\n",
              "      gap: 12px;\n",
              "    }\n",
              "\n",
              "    .colab-df-convert {\n",
              "      background-color: #E8F0FE;\n",
              "      border: none;\n",
              "      border-radius: 50%;\n",
              "      cursor: pointer;\n",
              "      display: none;\n",
              "      fill: #1967D2;\n",
              "      height: 32px;\n",
              "      padding: 0 0 0 0;\n",
              "      width: 32px;\n",
              "    }\n",
              "\n",
              "    .colab-df-convert:hover {\n",
              "      background-color: #E2EBFA;\n",
              "      box-shadow: 0px 1px 2px rgba(60, 64, 67, 0.3), 0px 1px 3px 1px rgba(60, 64, 67, 0.15);\n",
              "      fill: #174EA6;\n",
              "    }\n",
              "\n",
              "    .colab-df-buttons div {\n",
              "      margin-bottom: 4px;\n",
              "    }\n",
              "\n",
              "    [theme=dark] .colab-df-convert {\n",
              "      background-color: #3B4455;\n",
              "      fill: #D2E3FC;\n",
              "    }\n",
              "\n",
              "    [theme=dark] .colab-df-convert:hover {\n",
              "      background-color: #434B5C;\n",
              "      box-shadow: 0px 1px 3px 1px rgba(0, 0, 0, 0.15);\n",
              "      filter: drop-shadow(0px 1px 2px rgba(0, 0, 0, 0.3));\n",
              "      fill: #FFFFFF;\n",
              "    }\n",
              "  </style>\n",
              "\n",
              "    <script>\n",
              "      const buttonEl =\n",
              "        document.querySelector('#df-722d282a-8d9b-475e-85d3-07eea5a6f6db button.colab-df-convert');\n",
              "      buttonEl.style.display =\n",
              "        google.colab.kernel.accessAllowed ? 'block' : 'none';\n",
              "\n",
              "      async function convertToInteractive(key) {\n",
              "        const element = document.querySelector('#df-722d282a-8d9b-475e-85d3-07eea5a6f6db');\n",
              "        const dataTable =\n",
              "          await google.colab.kernel.invokeFunction('convertToInteractive',\n",
              "                                                    [key], {});\n",
              "        if (!dataTable) return;\n",
              "\n",
              "        const docLinkHtml = 'Like what you see? Visit the ' +\n",
              "          '<a target=\"_blank\" href=https://colab.research.google.com/notebooks/data_table.ipynb>data table notebook</a>'\n",
              "          + ' to learn more about interactive tables.';\n",
              "        element.innerHTML = '';\n",
              "        dataTable['output_type'] = 'display_data';\n",
              "        await google.colab.output.renderOutput(dataTable, element);\n",
              "        const docLink = document.createElement('div');\n",
              "        docLink.innerHTML = docLinkHtml;\n",
              "        element.appendChild(docLink);\n",
              "      }\n",
              "    </script>\n",
              "  </div>\n",
              "\n",
              "\n",
              "<div id=\"df-ebc8036d-5b8c-4130-85d2-911736af6e57\">\n",
              "  <button class=\"colab-df-quickchart\" onclick=\"quickchart('df-ebc8036d-5b8c-4130-85d2-911736af6e57')\"\n",
              "            title=\"Suggest charts\"\n",
              "            style=\"display:none;\">\n",
              "\n",
              "<svg xmlns=\"http://www.w3.org/2000/svg\" height=\"24px\"viewBox=\"0 0 24 24\"\n",
              "     width=\"24px\">\n",
              "    <g>\n",
              "        <path d=\"M19 3H5c-1.1 0-2 .9-2 2v14c0 1.1.9 2 2 2h14c1.1 0 2-.9 2-2V5c0-1.1-.9-2-2-2zM9 17H7v-7h2v7zm4 0h-2V7h2v10zm4 0h-2v-4h2v4z\"/>\n",
              "    </g>\n",
              "</svg>\n",
              "  </button>\n",
              "\n",
              "<style>\n",
              "  .colab-df-quickchart {\n",
              "      --bg-color: #E8F0FE;\n",
              "      --fill-color: #1967D2;\n",
              "      --hover-bg-color: #E2EBFA;\n",
              "      --hover-fill-color: #174EA6;\n",
              "      --disabled-fill-color: #AAA;\n",
              "      --disabled-bg-color: #DDD;\n",
              "  }\n",
              "\n",
              "  [theme=dark] .colab-df-quickchart {\n",
              "      --bg-color: #3B4455;\n",
              "      --fill-color: #D2E3FC;\n",
              "      --hover-bg-color: #434B5C;\n",
              "      --hover-fill-color: #FFFFFF;\n",
              "      --disabled-bg-color: #3B4455;\n",
              "      --disabled-fill-color: #666;\n",
              "  }\n",
              "\n",
              "  .colab-df-quickchart {\n",
              "    background-color: var(--bg-color);\n",
              "    border: none;\n",
              "    border-radius: 50%;\n",
              "    cursor: pointer;\n",
              "    display: none;\n",
              "    fill: var(--fill-color);\n",
              "    height: 32px;\n",
              "    padding: 0;\n",
              "    width: 32px;\n",
              "  }\n",
              "\n",
              "  .colab-df-quickchart:hover {\n",
              "    background-color: var(--hover-bg-color);\n",
              "    box-shadow: 0 1px 2px rgba(60, 64, 67, 0.3), 0 1px 3px 1px rgba(60, 64, 67, 0.15);\n",
              "    fill: var(--button-hover-fill-color);\n",
              "  }\n",
              "\n",
              "  .colab-df-quickchart-complete:disabled,\n",
              "  .colab-df-quickchart-complete:disabled:hover {\n",
              "    background-color: var(--disabled-bg-color);\n",
              "    fill: var(--disabled-fill-color);\n",
              "    box-shadow: none;\n",
              "  }\n",
              "\n",
              "  .colab-df-spinner {\n",
              "    border: 2px solid var(--fill-color);\n",
              "    border-color: transparent;\n",
              "    border-bottom-color: var(--fill-color);\n",
              "    animation:\n",
              "      spin 1s steps(1) infinite;\n",
              "  }\n",
              "\n",
              "  @keyframes spin {\n",
              "    0% {\n",
              "      border-color: transparent;\n",
              "      border-bottom-color: var(--fill-color);\n",
              "      border-left-color: var(--fill-color);\n",
              "    }\n",
              "    20% {\n",
              "      border-color: transparent;\n",
              "      border-left-color: var(--fill-color);\n",
              "      border-top-color: var(--fill-color);\n",
              "    }\n",
              "    30% {\n",
              "      border-color: transparent;\n",
              "      border-left-color: var(--fill-color);\n",
              "      border-top-color: var(--fill-color);\n",
              "      border-right-color: var(--fill-color);\n",
              "    }\n",
              "    40% {\n",
              "      border-color: transparent;\n",
              "      border-right-color: var(--fill-color);\n",
              "      border-top-color: var(--fill-color);\n",
              "    }\n",
              "    60% {\n",
              "      border-color: transparent;\n",
              "      border-right-color: var(--fill-color);\n",
              "    }\n",
              "    80% {\n",
              "      border-color: transparent;\n",
              "      border-right-color: var(--fill-color);\n",
              "      border-bottom-color: var(--fill-color);\n",
              "    }\n",
              "    90% {\n",
              "      border-color: transparent;\n",
              "      border-bottom-color: var(--fill-color);\n",
              "    }\n",
              "  }\n",
              "</style>\n",
              "\n",
              "  <script>\n",
              "    async function quickchart(key) {\n",
              "      const quickchartButtonEl =\n",
              "        document.querySelector('#' + key + ' button');\n",
              "      quickchartButtonEl.disabled = true;  // To prevent multiple clicks.\n",
              "      quickchartButtonEl.classList.add('colab-df-spinner');\n",
              "      try {\n",
              "        const charts = await google.colab.kernel.invokeFunction(\n",
              "            'suggestCharts', [key], {});\n",
              "      } catch (error) {\n",
              "        console.error('Error during call to suggestCharts:', error);\n",
              "      }\n",
              "      quickchartButtonEl.classList.remove('colab-df-spinner');\n",
              "      quickchartButtonEl.classList.add('colab-df-quickchart-complete');\n",
              "    }\n",
              "    (() => {\n",
              "      let quickchartButtonEl =\n",
              "        document.querySelector('#df-ebc8036d-5b8c-4130-85d2-911736af6e57 button');\n",
              "      quickchartButtonEl.style.display =\n",
              "        google.colab.kernel.accessAllowed ? 'block' : 'none';\n",
              "    })();\n",
              "  </script>\n",
              "</div>\n",
              "    </div>\n",
              "  </div>\n"
            ]
          },
          "metadata": {},
          "execution_count": 19
        }
      ],
      "source": [
        "df_ordenado = pd.DataFrame(dft.sort_values(by='Life Ladder', ascending=False))\n",
        "df_ordenado.reset_index()"
      ]
    },
    {
      "cell_type": "markdown",
      "metadata": {
        "id": "YrwiMAjcScS6"
      },
      "source": [
        "Filtramos solo del año 2020: Países más felices del 2020"
      ]
    },
    {
      "cell_type": "code",
      "execution_count": null,
      "metadata": {
        "id": "VC7LKBIpP7Xz",
        "colab": {
          "base_uri": "https://localhost:8080/",
          "height": 495
        },
        "outputId": "d822ab46-1f72-43a4-8bb7-458cc186816e"
      },
      "outputs": [
        {
          "output_type": "execute_result",
          "data": {
            "text/plain": [
              "   Country name  year  Life Ladder  Log GDP per capita  Social support  \\\n",
              "1       Finland  2020        7.889              10.750           0.962   \n",
              "2       Iceland  2020        7.575              10.824           0.983   \n",
              "3       Denmark  2020        7.515              10.910           0.947   \n",
              "4   Switzerland  2020        7.508              11.081           0.946   \n",
              "5   Netherlands  2020        7.504              10.901           0.944   \n",
              "..          ...   ...          ...                 ...             ...   \n",
              "91     Cambodia  2020        4.377               8.362           0.724   \n",
              "92        India  2020        4.225               8.703           0.617   \n",
              "93       Jordan  2020        4.094               9.150           0.709   \n",
              "94     Tanzania  2020        3.786               7.881           0.740   \n",
              "95     Zimbabwe  2020        3.160               7.829           0.717   \n",
              "\n",
              "    Healthy life expectancy at birth  Freedom to make life choices  \\\n",
              "1                               72.1                         0.962   \n",
              "2                               73.0                         0.949   \n",
              "3                               73.0                         0.938   \n",
              "4                               74.7                         0.917   \n",
              "5                               72.5                         0.935   \n",
              "..                               ...                           ...   \n",
              "91                              62.4                         0.963   \n",
              "92                              60.9                         0.906   \n",
              "93                              67.2                         0.779   \n",
              "94                              58.5                         0.830   \n",
              "95                              56.8                         0.643   \n",
              "\n",
              "    Generosity  Perceptions of corruption  Positive affect  Negative affect  \n",
              "1       -0.116                      0.164            0.744            0.193  \n",
              "2        0.160                      0.644            0.863            0.172  \n",
              "3        0.052                      0.214            0.818            0.227  \n",
              "4       -0.064                      0.280            0.769            0.193  \n",
              "5        0.151                      0.281            0.784            0.247  \n",
              "..         ...                        ...              ...              ...  \n",
              "91       0.052                      0.863            0.878            0.390  \n",
              "92       0.075                      0.780            0.752            0.383  \n",
              "93      -0.150                        NaN              NaN              NaN  \n",
              "94       0.295                      0.521            0.686            0.271  \n",
              "95      -0.009                      0.789            0.703            0.346  \n",
              "\n",
              "[95 rows x 11 columns]"
            ],
            "text/html": [
              "\n",
              "  <div id=\"df-7f0ae458-d24d-484f-98c9-a8767efc35a6\" class=\"colab-df-container\">\n",
              "    <div>\n",
              "<style scoped>\n",
              "    .dataframe tbody tr th:only-of-type {\n",
              "        vertical-align: middle;\n",
              "    }\n",
              "\n",
              "    .dataframe tbody tr th {\n",
              "        vertical-align: top;\n",
              "    }\n",
              "\n",
              "    .dataframe thead th {\n",
              "        text-align: right;\n",
              "    }\n",
              "</style>\n",
              "<table border=\"1\" class=\"dataframe\">\n",
              "  <thead>\n",
              "    <tr style=\"text-align: right;\">\n",
              "      <th></th>\n",
              "      <th>Country name</th>\n",
              "      <th>year</th>\n",
              "      <th>Life Ladder</th>\n",
              "      <th>Log GDP per capita</th>\n",
              "      <th>Social support</th>\n",
              "      <th>Healthy life expectancy at birth</th>\n",
              "      <th>Freedom to make life choices</th>\n",
              "      <th>Generosity</th>\n",
              "      <th>Perceptions of corruption</th>\n",
              "      <th>Positive affect</th>\n",
              "      <th>Negative affect</th>\n",
              "    </tr>\n",
              "  </thead>\n",
              "  <tbody>\n",
              "    <tr>\n",
              "      <th>1</th>\n",
              "      <td>Finland</td>\n",
              "      <td>2020</td>\n",
              "      <td>7.889</td>\n",
              "      <td>10.750</td>\n",
              "      <td>0.962</td>\n",
              "      <td>72.1</td>\n",
              "      <td>0.962</td>\n",
              "      <td>-0.116</td>\n",
              "      <td>0.164</td>\n",
              "      <td>0.744</td>\n",
              "      <td>0.193</td>\n",
              "    </tr>\n",
              "    <tr>\n",
              "      <th>2</th>\n",
              "      <td>Iceland</td>\n",
              "      <td>2020</td>\n",
              "      <td>7.575</td>\n",
              "      <td>10.824</td>\n",
              "      <td>0.983</td>\n",
              "      <td>73.0</td>\n",
              "      <td>0.949</td>\n",
              "      <td>0.160</td>\n",
              "      <td>0.644</td>\n",
              "      <td>0.863</td>\n",
              "      <td>0.172</td>\n",
              "    </tr>\n",
              "    <tr>\n",
              "      <th>3</th>\n",
              "      <td>Denmark</td>\n",
              "      <td>2020</td>\n",
              "      <td>7.515</td>\n",
              "      <td>10.910</td>\n",
              "      <td>0.947</td>\n",
              "      <td>73.0</td>\n",
              "      <td>0.938</td>\n",
              "      <td>0.052</td>\n",
              "      <td>0.214</td>\n",
              "      <td>0.818</td>\n",
              "      <td>0.227</td>\n",
              "    </tr>\n",
              "    <tr>\n",
              "      <th>4</th>\n",
              "      <td>Switzerland</td>\n",
              "      <td>2020</td>\n",
              "      <td>7.508</td>\n",
              "      <td>11.081</td>\n",
              "      <td>0.946</td>\n",
              "      <td>74.7</td>\n",
              "      <td>0.917</td>\n",
              "      <td>-0.064</td>\n",
              "      <td>0.280</td>\n",
              "      <td>0.769</td>\n",
              "      <td>0.193</td>\n",
              "    </tr>\n",
              "    <tr>\n",
              "      <th>5</th>\n",
              "      <td>Netherlands</td>\n",
              "      <td>2020</td>\n",
              "      <td>7.504</td>\n",
              "      <td>10.901</td>\n",
              "      <td>0.944</td>\n",
              "      <td>72.5</td>\n",
              "      <td>0.935</td>\n",
              "      <td>0.151</td>\n",
              "      <td>0.281</td>\n",
              "      <td>0.784</td>\n",
              "      <td>0.247</td>\n",
              "    </tr>\n",
              "    <tr>\n",
              "      <th>...</th>\n",
              "      <td>...</td>\n",
              "      <td>...</td>\n",
              "      <td>...</td>\n",
              "      <td>...</td>\n",
              "      <td>...</td>\n",
              "      <td>...</td>\n",
              "      <td>...</td>\n",
              "      <td>...</td>\n",
              "      <td>...</td>\n",
              "      <td>...</td>\n",
              "      <td>...</td>\n",
              "    </tr>\n",
              "    <tr>\n",
              "      <th>91</th>\n",
              "      <td>Cambodia</td>\n",
              "      <td>2020</td>\n",
              "      <td>4.377</td>\n",
              "      <td>8.362</td>\n",
              "      <td>0.724</td>\n",
              "      <td>62.4</td>\n",
              "      <td>0.963</td>\n",
              "      <td>0.052</td>\n",
              "      <td>0.863</td>\n",
              "      <td>0.878</td>\n",
              "      <td>0.390</td>\n",
              "    </tr>\n",
              "    <tr>\n",
              "      <th>92</th>\n",
              "      <td>India</td>\n",
              "      <td>2020</td>\n",
              "      <td>4.225</td>\n",
              "      <td>8.703</td>\n",
              "      <td>0.617</td>\n",
              "      <td>60.9</td>\n",
              "      <td>0.906</td>\n",
              "      <td>0.075</td>\n",
              "      <td>0.780</td>\n",
              "      <td>0.752</td>\n",
              "      <td>0.383</td>\n",
              "    </tr>\n",
              "    <tr>\n",
              "      <th>93</th>\n",
              "      <td>Jordan</td>\n",
              "      <td>2020</td>\n",
              "      <td>4.094</td>\n",
              "      <td>9.150</td>\n",
              "      <td>0.709</td>\n",
              "      <td>67.2</td>\n",
              "      <td>0.779</td>\n",
              "      <td>-0.150</td>\n",
              "      <td>NaN</td>\n",
              "      <td>NaN</td>\n",
              "      <td>NaN</td>\n",
              "    </tr>\n",
              "    <tr>\n",
              "      <th>94</th>\n",
              "      <td>Tanzania</td>\n",
              "      <td>2020</td>\n",
              "      <td>3.786</td>\n",
              "      <td>7.881</td>\n",
              "      <td>0.740</td>\n",
              "      <td>58.5</td>\n",
              "      <td>0.830</td>\n",
              "      <td>0.295</td>\n",
              "      <td>0.521</td>\n",
              "      <td>0.686</td>\n",
              "      <td>0.271</td>\n",
              "    </tr>\n",
              "    <tr>\n",
              "      <th>95</th>\n",
              "      <td>Zimbabwe</td>\n",
              "      <td>2020</td>\n",
              "      <td>3.160</td>\n",
              "      <td>7.829</td>\n",
              "      <td>0.717</td>\n",
              "      <td>56.8</td>\n",
              "      <td>0.643</td>\n",
              "      <td>-0.009</td>\n",
              "      <td>0.789</td>\n",
              "      <td>0.703</td>\n",
              "      <td>0.346</td>\n",
              "    </tr>\n",
              "  </tbody>\n",
              "</table>\n",
              "<p>95 rows × 11 columns</p>\n",
              "</div>\n",
              "    <div class=\"colab-df-buttons\">\n",
              "\n",
              "  <div class=\"colab-df-container\">\n",
              "    <button class=\"colab-df-convert\" onclick=\"convertToInteractive('df-7f0ae458-d24d-484f-98c9-a8767efc35a6')\"\n",
              "            title=\"Convert this dataframe to an interactive table.\"\n",
              "            style=\"display:none;\">\n",
              "\n",
              "  <svg xmlns=\"http://www.w3.org/2000/svg\" height=\"24px\" viewBox=\"0 -960 960 960\">\n",
              "    <path d=\"M120-120v-720h720v720H120Zm60-500h600v-160H180v160Zm220 220h160v-160H400v160Zm0 220h160v-160H400v160ZM180-400h160v-160H180v160Zm440 0h160v-160H620v160ZM180-180h160v-160H180v160Zm440 0h160v-160H620v160Z\"/>\n",
              "  </svg>\n",
              "    </button>\n",
              "\n",
              "  <style>\n",
              "    .colab-df-container {\n",
              "      display:flex;\n",
              "      gap: 12px;\n",
              "    }\n",
              "\n",
              "    .colab-df-convert {\n",
              "      background-color: #E8F0FE;\n",
              "      border: none;\n",
              "      border-radius: 50%;\n",
              "      cursor: pointer;\n",
              "      display: none;\n",
              "      fill: #1967D2;\n",
              "      height: 32px;\n",
              "      padding: 0 0 0 0;\n",
              "      width: 32px;\n",
              "    }\n",
              "\n",
              "    .colab-df-convert:hover {\n",
              "      background-color: #E2EBFA;\n",
              "      box-shadow: 0px 1px 2px rgba(60, 64, 67, 0.3), 0px 1px 3px 1px rgba(60, 64, 67, 0.15);\n",
              "      fill: #174EA6;\n",
              "    }\n",
              "\n",
              "    .colab-df-buttons div {\n",
              "      margin-bottom: 4px;\n",
              "    }\n",
              "\n",
              "    [theme=dark] .colab-df-convert {\n",
              "      background-color: #3B4455;\n",
              "      fill: #D2E3FC;\n",
              "    }\n",
              "\n",
              "    [theme=dark] .colab-df-convert:hover {\n",
              "      background-color: #434B5C;\n",
              "      box-shadow: 0px 1px 3px 1px rgba(0, 0, 0, 0.15);\n",
              "      filter: drop-shadow(0px 1px 2px rgba(0, 0, 0, 0.3));\n",
              "      fill: #FFFFFF;\n",
              "    }\n",
              "  </style>\n",
              "\n",
              "    <script>\n",
              "      const buttonEl =\n",
              "        document.querySelector('#df-7f0ae458-d24d-484f-98c9-a8767efc35a6 button.colab-df-convert');\n",
              "      buttonEl.style.display =\n",
              "        google.colab.kernel.accessAllowed ? 'block' : 'none';\n",
              "\n",
              "      async function convertToInteractive(key) {\n",
              "        const element = document.querySelector('#df-7f0ae458-d24d-484f-98c9-a8767efc35a6');\n",
              "        const dataTable =\n",
              "          await google.colab.kernel.invokeFunction('convertToInteractive',\n",
              "                                                    [key], {});\n",
              "        if (!dataTable) return;\n",
              "\n",
              "        const docLinkHtml = 'Like what you see? Visit the ' +\n",
              "          '<a target=\"_blank\" href=https://colab.research.google.com/notebooks/data_table.ipynb>data table notebook</a>'\n",
              "          + ' to learn more about interactive tables.';\n",
              "        element.innerHTML = '';\n",
              "        dataTable['output_type'] = 'display_data';\n",
              "        await google.colab.output.renderOutput(dataTable, element);\n",
              "        const docLink = document.createElement('div');\n",
              "        docLink.innerHTML = docLinkHtml;\n",
              "        element.appendChild(docLink);\n",
              "      }\n",
              "    </script>\n",
              "  </div>\n",
              "\n",
              "\n",
              "<div id=\"df-55d8c343-33a0-4398-becc-ffb8f0192475\">\n",
              "  <button class=\"colab-df-quickchart\" onclick=\"quickchart('df-55d8c343-33a0-4398-becc-ffb8f0192475')\"\n",
              "            title=\"Suggest charts\"\n",
              "            style=\"display:none;\">\n",
              "\n",
              "<svg xmlns=\"http://www.w3.org/2000/svg\" height=\"24px\"viewBox=\"0 0 24 24\"\n",
              "     width=\"24px\">\n",
              "    <g>\n",
              "        <path d=\"M19 3H5c-1.1 0-2 .9-2 2v14c0 1.1.9 2 2 2h14c1.1 0 2-.9 2-2V5c0-1.1-.9-2-2-2zM9 17H7v-7h2v7zm4 0h-2V7h2v10zm4 0h-2v-4h2v4z\"/>\n",
              "    </g>\n",
              "</svg>\n",
              "  </button>\n",
              "\n",
              "<style>\n",
              "  .colab-df-quickchart {\n",
              "      --bg-color: #E8F0FE;\n",
              "      --fill-color: #1967D2;\n",
              "      --hover-bg-color: #E2EBFA;\n",
              "      --hover-fill-color: #174EA6;\n",
              "      --disabled-fill-color: #AAA;\n",
              "      --disabled-bg-color: #DDD;\n",
              "  }\n",
              "\n",
              "  [theme=dark] .colab-df-quickchart {\n",
              "      --bg-color: #3B4455;\n",
              "      --fill-color: #D2E3FC;\n",
              "      --hover-bg-color: #434B5C;\n",
              "      --hover-fill-color: #FFFFFF;\n",
              "      --disabled-bg-color: #3B4455;\n",
              "      --disabled-fill-color: #666;\n",
              "  }\n",
              "\n",
              "  .colab-df-quickchart {\n",
              "    background-color: var(--bg-color);\n",
              "    border: none;\n",
              "    border-radius: 50%;\n",
              "    cursor: pointer;\n",
              "    display: none;\n",
              "    fill: var(--fill-color);\n",
              "    height: 32px;\n",
              "    padding: 0;\n",
              "    width: 32px;\n",
              "  }\n",
              "\n",
              "  .colab-df-quickchart:hover {\n",
              "    background-color: var(--hover-bg-color);\n",
              "    box-shadow: 0 1px 2px rgba(60, 64, 67, 0.3), 0 1px 3px 1px rgba(60, 64, 67, 0.15);\n",
              "    fill: var(--button-hover-fill-color);\n",
              "  }\n",
              "\n",
              "  .colab-df-quickchart-complete:disabled,\n",
              "  .colab-df-quickchart-complete:disabled:hover {\n",
              "    background-color: var(--disabled-bg-color);\n",
              "    fill: var(--disabled-fill-color);\n",
              "    box-shadow: none;\n",
              "  }\n",
              "\n",
              "  .colab-df-spinner {\n",
              "    border: 2px solid var(--fill-color);\n",
              "    border-color: transparent;\n",
              "    border-bottom-color: var(--fill-color);\n",
              "    animation:\n",
              "      spin 1s steps(1) infinite;\n",
              "  }\n",
              "\n",
              "  @keyframes spin {\n",
              "    0% {\n",
              "      border-color: transparent;\n",
              "      border-bottom-color: var(--fill-color);\n",
              "      border-left-color: var(--fill-color);\n",
              "    }\n",
              "    20% {\n",
              "      border-color: transparent;\n",
              "      border-left-color: var(--fill-color);\n",
              "      border-top-color: var(--fill-color);\n",
              "    }\n",
              "    30% {\n",
              "      border-color: transparent;\n",
              "      border-left-color: var(--fill-color);\n",
              "      border-top-color: var(--fill-color);\n",
              "      border-right-color: var(--fill-color);\n",
              "    }\n",
              "    40% {\n",
              "      border-color: transparent;\n",
              "      border-right-color: var(--fill-color);\n",
              "      border-top-color: var(--fill-color);\n",
              "    }\n",
              "    60% {\n",
              "      border-color: transparent;\n",
              "      border-right-color: var(--fill-color);\n",
              "    }\n",
              "    80% {\n",
              "      border-color: transparent;\n",
              "      border-right-color: var(--fill-color);\n",
              "      border-bottom-color: var(--fill-color);\n",
              "    }\n",
              "    90% {\n",
              "      border-color: transparent;\n",
              "      border-bottom-color: var(--fill-color);\n",
              "    }\n",
              "  }\n",
              "</style>\n",
              "\n",
              "  <script>\n",
              "    async function quickchart(key) {\n",
              "      const quickchartButtonEl =\n",
              "        document.querySelector('#' + key + ' button');\n",
              "      quickchartButtonEl.disabled = true;  // To prevent multiple clicks.\n",
              "      quickchartButtonEl.classList.add('colab-df-spinner');\n",
              "      try {\n",
              "        const charts = await google.colab.kernel.invokeFunction(\n",
              "            'suggestCharts', [key], {});\n",
              "      } catch (error) {\n",
              "        console.error('Error during call to suggestCharts:', error);\n",
              "      }\n",
              "      quickchartButtonEl.classList.remove('colab-df-spinner');\n",
              "      quickchartButtonEl.classList.add('colab-df-quickchart-complete');\n",
              "    }\n",
              "    (() => {\n",
              "      let quickchartButtonEl =\n",
              "        document.querySelector('#df-55d8c343-33a0-4398-becc-ffb8f0192475 button');\n",
              "      quickchartButtonEl.style.display =\n",
              "        google.colab.kernel.accessAllowed ? 'block' : 'none';\n",
              "    })();\n",
              "  </script>\n",
              "</div>\n",
              "    </div>\n",
              "  </div>\n"
            ]
          },
          "metadata": {},
          "execution_count": 20
        }
      ],
      "source": [
        "import numpy as np\n",
        "\n",
        "df_2020 = df_ordenado[df_ordenado.year == 2020]\n",
        "#Reiniciamos el índice para tener los países más felices desde 1 en adelante\n",
        "df_2020.reset_index(inplace=True, drop=True)\n",
        "#como el índice comienza en 0, reseteamos el índice para comenzar en 1\n",
        "df_2020.index = np.arange(1,len(df_2020)+1)\n",
        "df_2020"
      ]
    },
    {
      "cell_type": "markdown",
      "metadata": {
        "id": "aHSPx1GWSiTK"
      },
      "source": [
        "Encontramos el país con mayor GDP per capita dentro de los países con mayor felicidad del 2020"
      ]
    },
    {
      "cell_type": "code",
      "execution_count": null,
      "metadata": {
        "id": "YkF44YPrVReN",
        "colab": {
          "base_uri": "https://localhost:8080/",
          "height": 152
        },
        "outputId": "f31e00e2-8937-4034-da8b-15e2306a3b19"
      },
      "outputs": [
        {
          "output_type": "execute_result",
          "data": {
            "text/plain": [
              "   Country name  year  Life Ladder  Log GDP per capita  Social support  \\\n",
              "13      Ireland  2020        7.035              11.323            0.96   \n",
              "\n",
              "    Healthy life expectancy at birth  Freedom to make life choices  \\\n",
              "13                              72.5                         0.882   \n",
              "\n",
              "    Generosity  Perceptions of corruption  Positive affect  Negative affect  \n",
              "13       0.014                      0.356            0.797            0.246  "
            ],
            "text/html": [
              "\n",
              "  <div id=\"df-4ab0a4be-73d1-461f-bf5a-c066a9760674\" class=\"colab-df-container\">\n",
              "    <div>\n",
              "<style scoped>\n",
              "    .dataframe tbody tr th:only-of-type {\n",
              "        vertical-align: middle;\n",
              "    }\n",
              "\n",
              "    .dataframe tbody tr th {\n",
              "        vertical-align: top;\n",
              "    }\n",
              "\n",
              "    .dataframe thead th {\n",
              "        text-align: right;\n",
              "    }\n",
              "</style>\n",
              "<table border=\"1\" class=\"dataframe\">\n",
              "  <thead>\n",
              "    <tr style=\"text-align: right;\">\n",
              "      <th></th>\n",
              "      <th>Country name</th>\n",
              "      <th>year</th>\n",
              "      <th>Life Ladder</th>\n",
              "      <th>Log GDP per capita</th>\n",
              "      <th>Social support</th>\n",
              "      <th>Healthy life expectancy at birth</th>\n",
              "      <th>Freedom to make life choices</th>\n",
              "      <th>Generosity</th>\n",
              "      <th>Perceptions of corruption</th>\n",
              "      <th>Positive affect</th>\n",
              "      <th>Negative affect</th>\n",
              "    </tr>\n",
              "  </thead>\n",
              "  <tbody>\n",
              "    <tr>\n",
              "      <th>13</th>\n",
              "      <td>Ireland</td>\n",
              "      <td>2020</td>\n",
              "      <td>7.035</td>\n",
              "      <td>11.323</td>\n",
              "      <td>0.96</td>\n",
              "      <td>72.5</td>\n",
              "      <td>0.882</td>\n",
              "      <td>0.014</td>\n",
              "      <td>0.356</td>\n",
              "      <td>0.797</td>\n",
              "      <td>0.246</td>\n",
              "    </tr>\n",
              "  </tbody>\n",
              "</table>\n",
              "</div>\n",
              "    <div class=\"colab-df-buttons\">\n",
              "\n",
              "  <div class=\"colab-df-container\">\n",
              "    <button class=\"colab-df-convert\" onclick=\"convertToInteractive('df-4ab0a4be-73d1-461f-bf5a-c066a9760674')\"\n",
              "            title=\"Convert this dataframe to an interactive table.\"\n",
              "            style=\"display:none;\">\n",
              "\n",
              "  <svg xmlns=\"http://www.w3.org/2000/svg\" height=\"24px\" viewBox=\"0 -960 960 960\">\n",
              "    <path d=\"M120-120v-720h720v720H120Zm60-500h600v-160H180v160Zm220 220h160v-160H400v160Zm0 220h160v-160H400v160ZM180-400h160v-160H180v160Zm440 0h160v-160H620v160ZM180-180h160v-160H180v160Zm440 0h160v-160H620v160Z\"/>\n",
              "  </svg>\n",
              "    </button>\n",
              "\n",
              "  <style>\n",
              "    .colab-df-container {\n",
              "      display:flex;\n",
              "      gap: 12px;\n",
              "    }\n",
              "\n",
              "    .colab-df-convert {\n",
              "      background-color: #E8F0FE;\n",
              "      border: none;\n",
              "      border-radius: 50%;\n",
              "      cursor: pointer;\n",
              "      display: none;\n",
              "      fill: #1967D2;\n",
              "      height: 32px;\n",
              "      padding: 0 0 0 0;\n",
              "      width: 32px;\n",
              "    }\n",
              "\n",
              "    .colab-df-convert:hover {\n",
              "      background-color: #E2EBFA;\n",
              "      box-shadow: 0px 1px 2px rgba(60, 64, 67, 0.3), 0px 1px 3px 1px rgba(60, 64, 67, 0.15);\n",
              "      fill: #174EA6;\n",
              "    }\n",
              "\n",
              "    .colab-df-buttons div {\n",
              "      margin-bottom: 4px;\n",
              "    }\n",
              "\n",
              "    [theme=dark] .colab-df-convert {\n",
              "      background-color: #3B4455;\n",
              "      fill: #D2E3FC;\n",
              "    }\n",
              "\n",
              "    [theme=dark] .colab-df-convert:hover {\n",
              "      background-color: #434B5C;\n",
              "      box-shadow: 0px 1px 3px 1px rgba(0, 0, 0, 0.15);\n",
              "      filter: drop-shadow(0px 1px 2px rgba(0, 0, 0, 0.3));\n",
              "      fill: #FFFFFF;\n",
              "    }\n",
              "  </style>\n",
              "\n",
              "    <script>\n",
              "      const buttonEl =\n",
              "        document.querySelector('#df-4ab0a4be-73d1-461f-bf5a-c066a9760674 button.colab-df-convert');\n",
              "      buttonEl.style.display =\n",
              "        google.colab.kernel.accessAllowed ? 'block' : 'none';\n",
              "\n",
              "      async function convertToInteractive(key) {\n",
              "        const element = document.querySelector('#df-4ab0a4be-73d1-461f-bf5a-c066a9760674');\n",
              "        const dataTable =\n",
              "          await google.colab.kernel.invokeFunction('convertToInteractive',\n",
              "                                                    [key], {});\n",
              "        if (!dataTable) return;\n",
              "\n",
              "        const docLinkHtml = 'Like what you see? Visit the ' +\n",
              "          '<a target=\"_blank\" href=https://colab.research.google.com/notebooks/data_table.ipynb>data table notebook</a>'\n",
              "          + ' to learn more about interactive tables.';\n",
              "        element.innerHTML = '';\n",
              "        dataTable['output_type'] = 'display_data';\n",
              "        await google.colab.output.renderOutput(dataTable, element);\n",
              "        const docLink = document.createElement('div');\n",
              "        docLink.innerHTML = docLinkHtml;\n",
              "        element.appendChild(docLink);\n",
              "      }\n",
              "    </script>\n",
              "  </div>\n",
              "\n",
              "    </div>\n",
              "  </div>\n"
            ]
          },
          "metadata": {},
          "execution_count": 21
        }
      ],
      "source": [
        "df_2020[df_2020['Log GDP per capita'] == df_2020['Log GDP per capita'].max()]"
      ]
    },
    {
      "cell_type": "markdown",
      "metadata": {
        "id": "4RlgsE0feK9X"
      },
      "source": [
        "Por lo tanto, el país con mayor GDP per capita del 2020 se encuentra en el lugar número 13 de los países más felices del mundo en el 2020."
      ]
    },
    {
      "cell_type": "markdown",
      "metadata": {
        "id": "yeHcXdLvf7NA"
      },
      "source": [
        "## 5 - Variación de GDP promedio entre 2020 y 2021"
      ]
    },
    {
      "cell_type": "markdown",
      "metadata": {
        "id": "Pgo1XUVJgfTl"
      },
      "source": [
        "Obtener el promedio de GDP del 2020"
      ]
    },
    {
      "cell_type": "markdown",
      "metadata": {
        "id": "UX9nr3CMiPKO"
      },
      "source": [
        "Convertir la columna GDP a float"
      ]
    },
    {
      "cell_type": "code",
      "execution_count": null,
      "metadata": {
        "id": "b2S-xuDniXUi",
        "colab": {
          "base_uri": "https://localhost:8080/"
        },
        "outputId": "6f0bfcf6-c84f-46ef-94cb-4c51fa9925df"
      },
      "outputs": [
        {
          "output_type": "stream",
          "name": "stdout",
          "text": [
            "root\n",
            " |-- Country name: string (nullable = true)\n",
            " |-- year: string (nullable = true)\n",
            " |-- Life Ladder: string (nullable = true)\n",
            " |-- Log GDP per capita: float (nullable = true)\n",
            " |-- Social support: string (nullable = true)\n",
            " |-- Healthy life expectancy at birth: string (nullable = true)\n",
            " |-- Freedom to make life choices: string (nullable = true)\n",
            " |-- Generosity: string (nullable = true)\n",
            " |-- Perceptions of corruption: string (nullable = true)\n",
            " |-- Positive affect: string (nullable = true)\n",
            " |-- Negative affect: string (nullable = true)\n",
            "\n",
            "root\n",
            " |-- Country name: string (nullable = true)\n",
            " |-- Regional indicator: string (nullable = true)\n",
            " |-- Ladder score: string (nullable = true)\n",
            " |-- Standard error of ladder score: string (nullable = true)\n",
            " |-- upperwhisker: string (nullable = true)\n",
            " |-- lowerwhisker: string (nullable = true)\n",
            " |-- Logged GDP per capita: float (nullable = true)\n",
            " |-- Social support: string (nullable = true)\n",
            " |-- Healthy life expectancy: string (nullable = true)\n",
            " |-- Freedom to make life choices: string (nullable = true)\n",
            " |-- Generosity: string (nullable = true)\n",
            " |-- Perceptions of corruption: string (nullable = true)\n",
            " |-- Ladder score in Dystopia: string (nullable = true)\n",
            " |-- Explained by: Log GDP per capita: string (nullable = true)\n",
            " |-- Explained by: Social support: string (nullable = true)\n",
            " |-- Explained by: Healthy life expectancy: string (nullable = true)\n",
            " |-- Explained by: Freedom to make life choices: string (nullable = true)\n",
            " |-- Explained by: Generosity: string (nullable = true)\n",
            " |-- Explained by: Perceptions of corruption: string (nullable = true)\n",
            " |-- Dystopia + residual: string (nullable = true)\n",
            "\n"
          ]
        }
      ],
      "source": [
        "from pyspark.sql.types import IntegerType\n",
        "\n",
        "df_2020 = spark.read.csv('./world-happiness-report.csv', header=True)\n",
        "df_2021 = spark.read.csv('./world-happiness-report-2021.csv', header=True)\n",
        "\n",
        "df_2020 = df_2020.withColumn('Log GDP per capita', col('Log GDP per capita').cast('float'))\n",
        "df_2021 = df_2021.withColumn('Logged GDP per capita', col('Logged GDP per capita').cast('float'))\n",
        "df_2020.printSchema()\n",
        "df_2021.printSchema()"
      ]
    },
    {
      "cell_type": "markdown",
      "metadata": {
        "id": "NSG9Q_aliPGe"
      },
      "source": [
        "Obtención del promedio GDP del 2020"
      ]
    },
    {
      "cell_type": "code",
      "source": [
        "from pyspark.sql.functions import mean\n",
        "prom_2020 = df_2020.select(mean('Log GDP per capita')).collect()[0][0]\n",
        "print(prom_2020)"
      ],
      "metadata": {
        "colab": {
          "base_uri": "https://localhost:8080/"
        },
        "id": "aQUM7GwuD5Sr",
        "outputId": "37081582-1b8b-44c2-d957-6ca466248a37"
      },
      "execution_count": null,
      "outputs": [
        {
          "output_type": "stream",
          "name": "stdout",
          "text": [
            "9.368452701777983\n"
          ]
        }
      ]
    },
    {
      "cell_type": "markdown",
      "source": [
        "Obtenención del promedio GDP del 2021"
      ],
      "metadata": {
        "id": "qewK5vncLUAQ"
      }
    },
    {
      "cell_type": "code",
      "source": [
        "prom_2021 = df_2021.select(mean('Logged GDP per capita')).collect()[0][0]\n",
        "print(prom_2021)"
      ],
      "metadata": {
        "colab": {
          "base_uri": "https://localhost:8080/"
        },
        "id": "siQCNZGXEvWs",
        "outputId": "c944ee12-959a-46b6-c6b3-d9d7d1f4f385"
      },
      "execution_count": null,
      "outputs": [
        {
          "output_type": "stream",
          "name": "stdout",
          "text": [
            "9.432208032416018\n"
          ]
        }
      ]
    },
    {
      "cell_type": "markdown",
      "source": [
        "Obteniendo la diferencia entre 2021 y 2020"
      ],
      "metadata": {
        "id": "J_CpxpZ9LZ-I"
      }
    },
    {
      "cell_type": "code",
      "source": [
        "variacion = round(prom_2021 - prom_2020,4)\n",
        "print(f'La variación entre el 2021 y 2020 fue de {variacion}')"
      ],
      "metadata": {
        "colab": {
          "base_uri": "https://localhost:8080/"
        },
        "id": "R0-oa2SSE0oC",
        "outputId": "b47f6834-482b-4586-abb0-39a8e9e9b891"
      },
      "execution_count": null,
      "outputs": [
        {
          "output_type": "stream",
          "name": "stdout",
          "text": [
            "La variación entre el 2021 y 2020 fue de 0.0638\n"
          ]
        }
      ]
    },
    {
      "cell_type": "markdown",
      "source": [
        "Convirtiendo la variación a porcentaje respecto al 2021"
      ],
      "metadata": {
        "id": "93rMYYI4Leo5"
      }
    },
    {
      "cell_type": "code",
      "execution_count": null,
      "metadata": {
        "id": "DqO_5APLeagd",
        "colab": {
          "base_uri": "https://localhost:8080/"
        },
        "outputId": "6ca105d3-eb26-41cb-ab3c-694adf5c4a1e"
      },
      "outputs": [
        {
          "output_type": "stream",
          "name": "stdout",
          "text": [
            "El porcentaje de varición entre el 2021 y el 2020 fue de: 0.68\n"
          ]
        }
      ],
      "source": [
        "porcentaje_variacion = round((variacion * 100)/ prom_2021,2)\n",
        "print(f'El porcentaje de varición entre el 2021 y el 2020 fue de: {porcentaje_variacion}')"
      ]
    },
    {
      "cell_type": "markdown",
      "source": [
        "## 6 - País con mayor expectativa de vida"
      ],
      "metadata": {
        "id": "v9lMdlGzLsvj"
      }
    },
    {
      "cell_type": "markdown",
      "source": [
        "Encontrando el valor máximo en la columna de esperanza de vida"
      ],
      "metadata": {
        "id": "_eHPP0RIOwHj"
      }
    },
    {
      "cell_type": "code",
      "source": [
        "df_2020.select(max('Healthy life expectancy at birth')).collect()[0][0]"
      ],
      "metadata": {
        "colab": {
          "base_uri": "https://localhost:8080/",
          "height": 35
        },
        "id": "-2Ui1cl1LxBn",
        "outputId": "9ede4b05-a93c-4a17-8816-9c25eda490d8"
      },
      "execution_count": null,
      "outputs": [
        {
          "output_type": "execute_result",
          "data": {
            "text/plain": [
              "'77.100'"
            ],
            "application/vnd.google.colaboratory.intrinsic+json": {
              "type": "string"
            }
          },
          "metadata": {},
          "execution_count": 68
        }
      ]
    },
    {
      "cell_type": "markdown",
      "source": [
        "Encontrando el país con mayor esperanza de vida en el 2019"
      ],
      "metadata": {
        "id": "5xkXZiHczIlO"
      }
    },
    {
      "cell_type": "code",
      "source": [
        "from pyspark.sql.functions import col\n",
        "pais_mayor_expectativa_vida = df_2020.orderBy(col('Healthy life expectancy at birth').desc()).first()\n",
        "pais_mayor_expectativa_vida['Country name']"
      ],
      "metadata": {
        "colab": {
          "base_uri": "https://localhost:8080/",
          "height": 35
        },
        "id": "VLPrcxjxOwzx",
        "outputId": "a6d05f07-fe52-4dce-dbfd-ac73e0def3d7"
      },
      "execution_count": null,
      "outputs": [
        {
          "output_type": "execute_result",
          "data": {
            "text/plain": [
              "'Singapore'"
            ],
            "application/vnd.google.colaboratory.intrinsic+json": {
              "type": "string"
            }
          },
          "metadata": {},
          "execution_count": 85
        }
      ]
    }
  ],
  "metadata": {
    "colab": {
      "provenance": []
    },
    "kernelspec": {
      "display_name": "Python 3",
      "name": "python3"
    },
    "language_info": {
      "name": "python"
    }
  },
  "nbformat": 4,
  "nbformat_minor": 0
}